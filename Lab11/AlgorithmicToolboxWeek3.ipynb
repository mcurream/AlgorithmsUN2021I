{
  "nbformat": 4,
  "nbformat_minor": 0,
  "metadata": {
    "colab": {
      "name": "AlgorithmicToolboxWeek3.ipynb",
      "provenance": [],
      "collapsed_sections": []
    },
    "kernelspec": {
      "name": "python3",
      "display_name": "Python 3"
    },
    "language_info": {
      "name": "python"
    }
  },
  "cells": [
    {
      "cell_type": "markdown",
      "metadata": {
        "id": "uX20pTj78Pol"
      },
      "source": [
        "# **Introduction**\n",
        "\n",
        "In this programming assignment, you will be practicing implementing greedy solutions. As usual, in some\n",
        "problems you just need to implement an algorithm covered in the lectures, while for some others your goal\n",
        "will be to first design an algorithm and then to implement it. Thus, you will be practicing designing an\n",
        "algorithm, proving that it is correct, and implementing it.\n",
        "Recall that starting from this programming assignment, the grader will show you only the first few tests."
      ]
    },
    {
      "cell_type": "markdown",
      "metadata": {
        "id": "xTmlKbuE8T3U"
      },
      "source": [
        "## Money Change\n",
        "\n",
        "Problem Description\n",
        "\n",
        "**Task.** The goal in this problem is to find the minimum number of coins needed to change the input value (an integer) into coins with denominations 1, 5, and 10.\n",
        "\n",
        "**Input Format.** The input consists of a single integer 𝑚.\n",
        "\n",
        "**Constraints.** 1 ≤ 𝑚 ≤ $10^3$.\n",
        "\n",
        "**Output Format.** Output the minimum number of coins with denominations 1, 5, 10 that changes 𝑚.\n",
        "\n",
        "$\\underline{Sample \\hspace{0.2cm} 1.}$\n",
        "\n",
        "Input:\n",
        "\n",
        "`2`\n",
        "\n",
        "Output:\n",
        "\n",
        "`2`\n",
        "\n",
        "$2$ = $1 + 1$.\n",
        "\n",
        "$\\hspace{0.2cm}$\n",
        "\n",
        "$\\underline{Sample \\hspace{0.2cm} 2.}$\n",
        "\n",
        "Input:\n",
        "\n",
        "`28`\n",
        "\n",
        "Output:\n",
        "\n",
        "`6`\n",
        "\n",
        "$28 = 10 + 10 + 5 + 1 + 1 + 1$."
      ]
    },
    {
      "cell_type": "code",
      "metadata": {
        "colab": {
          "base_uri": "https://localhost:8080/"
        },
        "id": "kttoRlc57zmu",
        "outputId": "a613186c-aadd-4368-a6c8-6e364e88ef4b"
      },
      "source": [
        "# Naive Solution\n",
        "\n",
        "# Python 3\n",
        "\n",
        "import sys\n",
        "import time\n",
        "\n",
        "def get_change(m):\n",
        "  n = m / 10\n",
        "  m %= 10\n",
        "  n += m / 5\n",
        "  m %= 5\n",
        "  n += m\n",
        "  \n",
        "  return m\n",
        "  \n",
        "if __name__ == '__main__':\n",
        "    m = int(input())\n",
        "    start_time = time.time()\n",
        "    print(get_change(m))\n",
        "    print(\"--- %s seconds ---\" % (time.time() - start_time))"
      ],
      "execution_count": 21,
      "outputs": [
        {
          "output_type": "stream",
          "text": [
            "2\n",
            "2\n",
            "--- 0.0008225440979003906 seconds ---\n"
          ],
          "name": "stdout"
        }
      ]
    },
    {
      "cell_type": "code",
      "metadata": {
        "colab": {
          "base_uri": "https://localhost:8080/"
        },
        "id": "QY2YLDwgCzRM",
        "outputId": "58f38ed3-23db-43b1-cf5d-4b5eaa0ba18e"
      },
      "source": [
        "# Fast Solution\n",
        "\n",
        "# Python3\n",
        "\n",
        "import sys\n",
        "import time\n",
        "\n",
        "n = int(input())\n",
        "\n",
        "start_time = time.time()\n",
        "\n",
        "count = 0\n",
        "for i in [10, 5, 1]:\n",
        "    if n>=i:\n",
        "        q = n//i\n",
        "        count += q\n",
        "        n = n%i\n",
        "        if n==0:\n",
        "            print(count)\n",
        "            quit()\n",
        "\n",
        "print(\"--- %s seconds ---\" % (time.time() - start_time))\n"
      ],
      "execution_count": 1,
      "outputs": [
        {
          "output_type": "stream",
          "text": [
            "1028\n",
            "106\n",
            "--- 0.001041412353515625 seconds ---\n"
          ],
          "name": "stdout"
        }
      ]
    },
    {
      "cell_type": "markdown",
      "metadata": {
        "id": "lbLJWOQrDFos"
      },
      "source": [
        "## Maximum Value of the Loot\n",
        "\n",
        "Problem Description\n",
        "\n",
        "**Task.** The goal of this code problem is to implement an algorithm for the fractional knapsack problem.\n",
        "\n",
        "**Input Format.** The first line of the input contains the number 𝑛 of items and the capacity 𝑊 of a knapsack. The next 𝑛 lines define the values and weights of the items. The 𝑖-th line contains integers 𝑣𝑖 and 𝑤𝑖—the\n",
        "value and the weight of 𝑖-th item, respectively.\n",
        "\n",
        "**Constraints.** 1 ≤ 𝑛 ≤ $10^3$, 0 ≤ 𝑊 ≤ 2 · $10^6$; 0 ≤ 𝑣𝑖 ≤ 2 · $10^6$, 0 < 𝑤𝑖 ≤ 2 · $10^6$ for all 1 ≤ 𝑖 ≤ 𝑛. All the numbers are integers.\n",
        "\n",
        "**Output Format.** Output the maximal value of fractions of items that fit into the knapsack. The absolute value of the difference between the answer of your program and the optimal value should be at most $10^{-3}$. To ensure this,output your answer with at least four digits after the decimal point (otherwise your answer, while being computed correctly, can turn out to be wrong because of rounding issues).\n",
        "\n",
        "$\\underline{Sample \\hspace{0.2cm} 1.}$\n",
        "\n",
        "Input:\n",
        "\n",
        "`3 50`\n",
        "\n",
        "`60 20`\n",
        "\n",
        "`100 50`\n",
        "\n",
        "`120 30`\n",
        "\n",
        "Output:\n",
        "\n",
        "`180.0000`\n",
        "\n",
        "To achieve the value 180, we take the first item and the third item into the bag.\n",
        "\n",
        "$\\hspace{0.2cm}$\n",
        "\n",
        "$\\underline{Sample \\hspace{0.2cm} 2.}$\n",
        "\n",
        "Input:\n",
        "\n",
        "`1 10`\n",
        "\n",
        "`500 30`\n",
        "\n",
        "Output:\n",
        "\n",
        "`166.6667`\n",
        "\n",
        "To achieve the value 180, we take the first item and the third item into the bag."
      ]
    },
    {
      "cell_type": "code",
      "metadata": {
        "colab": {
          "base_uri": "https://localhost:8080/"
        },
        "id": "y1ybCLIHD9IL",
        "outputId": "f4c6788a-d407-4dfe-a893-dae7c6e95d45"
      },
      "source": [
        "# Direct Solution (no more naive BS)\n",
        "\n",
        "# Python3\n",
        "\n",
        "import sys\n",
        "import time\n",
        "\n",
        "n, W = [int(i) for i in input().split()]\n",
        "lst = []\n",
        "\n",
        "\n",
        "\n",
        "if W == 0:\n",
        "    print(0)\n",
        "    quit()\n",
        "\n",
        "for _ in range(n):\n",
        "    v, w = [int(i) for i in input().split()]\n",
        "    if v == 0:\n",
        "        continue\n",
        "    lst.append((v, w))\n",
        "\n",
        "lst.sort(key = lambda x: x[0]/x[1], reverse = True)\n",
        "\n",
        "total_value = 0\n",
        "\n",
        "start_time = time.time()\n",
        "\n",
        "for v,w in lst:\n",
        "    if W==0:\n",
        "        print(total_value)\n",
        "        quit()\n",
        "    amt = min(w, W)\n",
        "    total_value += amt*v/w\n",
        "    W -= amt\n",
        "\n",
        "print(total_value)\n",
        "print(\"--- %s seconds ---\" % (time.time() - start_time))"
      ],
      "execution_count": 1,
      "outputs": [
        {
          "output_type": "stream",
          "text": [
            "1 10\n",
            "500 30\n",
            "166.66666666666666\n",
            "--- 0.0002703666687011719 seconds ---\n"
          ],
          "name": "stdout"
        }
      ]
    },
    {
      "cell_type": "markdown",
      "metadata": {
        "id": "TjgDySBqEqaV"
      },
      "source": [
        "## Car Fueling\n",
        "\n",
        "Problem Description\n",
        "\n",
        "You are going to travel to another city that is located 𝑑 miles away from your home city. Your car can travel at most 𝑚 miles on a full tank and you start with a full tank. Along your way, there are gas stations at distances stop1, stop2, . . . , stop𝑛 from your home city. What is the minimum number of refills needed?\n",
        "\n",
        "**Input Format.** The first line contains an integer 𝑑. The second line contains an integer 𝑚. The third line specifies an integer 𝑛. Finally, the last line contains integers stop1, stop2, . . . , stop𝑛.\n",
        "\n",
        "**Constraints.** 1 ≤ 𝑑 ≤ $10^5$. 1 ≤ 𝑚 ≤ 400. 1 ≤ 𝑛 ≤ 300. 0 < stop1 < stop2 < · · · < stop𝑛 < 𝑑.\n",
        "\n",
        "**Output Format.** Assuming that the distance between the cities is 𝑑 miles, a car can travel at most 𝑚 miles on a full tank, and there are gas stations at distances stop1, stop2, . . . , stop𝑛 along the way, output the minimum number of refills needed. Assume that the car starts with a full tank. If it is not possible to reach the destination, output −1.\n",
        "\n",
        "$\\underline{Sample \\hspace{0.2cm} 1.}$\n",
        "\n",
        "Input:\n",
        "\n",
        "`950`\n",
        "\n",
        "`400`\n",
        "\n",
        "`4`\n",
        "\n",
        "`200 375 550 750`\n",
        "\n",
        "Output:\n",
        "\n",
        "`2`\n",
        "\n",
        "The distance between the cities is 950, the car can travel at most 400 miles on a full tank. It suffices to make two refills: at points 375 and 750. This is the minimum number of refills as with a single refill one would only be able to travel at most 800 miles."
      ]
    },
    {
      "cell_type": "code",
      "metadata": {
        "colab": {
          "base_uri": "https://localhost:8080/"
        },
        "id": "FG5E2EktF5yF",
        "outputId": "3da63a0a-2917-4a23-e8bd-270c0626b18e"
      },
      "source": [
        "# Direct Solution (no more naive BS)\n",
        "\n",
        "# Python3\n",
        "\n",
        "import sys\n",
        "import time\n",
        "\n",
        "def compute_min_refills(distance, tank, stops):\n",
        "    stops.append(distance)\n",
        "    no_stops = 0\n",
        "    left_dist = distance\n",
        "    covered_dist = 0\n",
        "    for i in range(len(stops) - 1):\n",
        "        if (left_dist == 0):\n",
        "            break\n",
        "        elif ((stops[i + 1] - stops[i]) > tank):\n",
        "            no_stops = -1\n",
        "            break\n",
        "        elif ((covered_dist + tank) >= stops[i] and (covered_dist + tank) < stops[i + 1]):\n",
        "            covered_dist = stops[i]\n",
        "            left_dist = distance - stops[i]\n",
        "            no_stops +=  1\n",
        "    return no_stops\n",
        "\n",
        "\n",
        "if __name__ == '__main__':\n",
        "    d, m, _, *stops = map(int, input().split())\n",
        "    start_time = time.time()\n",
        "    print(compute_min_refills(d, m, stops))\n",
        "    print(\"--- %s seconds ---\" % (time.time() - start_time))\n"
      ],
      "execution_count": 9,
      "outputs": [
        {
          "output_type": "stream",
          "text": [
            "950 400 4 200 375 550 750\n",
            "2\n",
            "--- 0.00014495849609375 seconds ---\n"
          ],
          "name": "stdout"
        }
      ]
    },
    {
      "cell_type": "markdown",
      "metadata": {
        "id": "F00kbH2EG_WE"
      },
      "source": [
        "## Maximum Advertisement Revenue\n",
        "\n",
        "Problem Description\n",
        "\n",
        "**Task.** Given two sequences 𝑎1, 𝑎2, . . . , 𝑎𝑛 (𝑎𝑖 is the profit per click of the 𝑖-th ad) and 𝑏1, 𝑏2, . . . , 𝑏𝑛 (𝑏𝑖 is the average number of clicks per day of the 𝑖-th slot), we need to partition them into 𝑛 pairs  𝑎𝑖, 𝑏𝑗) such that the sum of their products is maximized.\n",
        "\n",
        "**Input Format.** The first line contains an integer 𝑛, the second one contains a sequence of integers 𝑎1, 𝑎2, . . . , 𝑎𝑛, the third one contains a sequence of integers 𝑏1, 𝑏2, . . . , 𝑏𝑛.\n",
        "\n",
        "**Constraints.** 1 ≤ 𝑛 ≤ $10^3$; −$10^5$ ≤ 𝑎𝑖, 𝑏𝑖 ≤ $10^5$ for all 1 ≤ 𝑖 ≤ 𝑛.\n",
        "\n",
        "**Output Format.** Output the maximum value of $\\sum^n_{i=1}$ 𝑎𝑖 𝑐𝑖, where 𝑐1, 𝑐2, . . . , 𝑐𝑛 is a permutation of 𝑏1, 𝑏2, . . . , 𝑏𝑛.\n",
        "\n",
        "$\\underline{Sample \\hspace{0.2cm} 1.}$\n",
        "\n",
        "Input:\n",
        "\n",
        "`1`\n",
        "\n",
        "`23`\n",
        "\n",
        "`39`\n",
        "\n",
        "Output:\n",
        "\n",
        "`897`\n",
        "\n",
        "$897 = 23 · 39.$\n",
        "\n"
      ]
    },
    {
      "cell_type": "code",
      "metadata": {
        "colab": {
          "base_uri": "https://localhost:8080/"
        },
        "id": "c9-L323SH5Vs",
        "outputId": "b9a22f97-9a95-493f-805a-0494f231d2e4"
      },
      "source": [
        "# Direct Solution (no more naive BS)\n",
        "\n",
        "# Python3\n",
        "\n",
        "import sys\n",
        "import time\n",
        "\n",
        "n = int(input())\n",
        "a = [int(i) for i in input().split()]\n",
        "b = [int(i) for i in input().split()]\n",
        "start_time = time.time()\n",
        "a.sort()\n",
        "b.sort()\n",
        "ans = sum([a[i]*b[i] for i in range(n)])\n",
        "print(ans)\n",
        "print(\"--- %s seconds ---\" % (time.time() - start_time))"
      ],
      "execution_count": 10,
      "outputs": [
        {
          "output_type": "stream",
          "text": [
            "1\n",
            "23\n",
            "39\n",
            "897\n",
            "--- 0.0003726482391357422 seconds ---\n"
          ],
          "name": "stdout"
        }
      ]
    },
    {
      "cell_type": "markdown",
      "metadata": {
        "id": "zIMsE24JIMqd"
      },
      "source": [
        "## Collecting Signatures\n",
        "\n",
        "Problem Description\n",
        "\n",
        "**Task.** Given a set of 𝑛 segments {[𝑎0, 𝑏0], [𝑎1, 𝑏1], . . . , [𝑎𝑛−1, 𝑏𝑛−1]} with integer coordinates on a line, find the minimum number 𝑚 of points such that each segment contains at least one point. That is, find a\n",
        "set of integers 𝑋 of the minimum size such that for any segment [𝑎𝑖, 𝑏𝑖] there is a point 𝑥 ∈ 𝑋 such that 𝑎𝑖 ≤ 𝑥 ≤ 𝑏𝑖.\n",
        "\n",
        "**Input Format.** The first line of the input contains the number 𝑛 of segments. Each of the following 𝑛 lines contains two integers 𝑎𝑖 and 𝑏𝑖 (separated by a space) defining the coordinates of endpoints of the 𝑖-th\n",
        "segment.\n",
        "\n",
        "**Constraints.** 1 ≤ 𝑛 ≤ 100; 0 ≤ 𝑎𝑖 ≤ 𝑏𝑖 ≤ $10^9$ for all 0 ≤ 𝑖 < 𝑛.\n",
        "\n",
        "**Output Format.** Output the minimum number 𝑚 of points on the first line and the integer coordinates of 𝑚 points (separated by spaces) on the second line. You can output the points in any order. If there are many such sets of points, you can output any set. (It is not difficult to see that there always exist a set of points of the minimum size such that all the coordinates of the points are integers.)\n",
        "\n",
        "$\\underline{Sample \\hspace{0.2cm} 1.}$\n",
        "\n",
        "Input:\n",
        "\n",
        "`3`\n",
        "\n",
        "`1 3`\n",
        "\n",
        "`2 5`\n",
        "\n",
        "`3 6`\n",
        "\n",
        "Output:\n",
        "\n",
        "`1`\n",
        "\n",
        "`3`\n",
        "\n",
        "In this sample, we have three segments: [1, 3], [2, 5], [3, 6] (of length 2, 3, 3 respectively). All of them contain the point with coordinate 3: 1 ≤ 3 ≤ 3, 2 ≤ 3 ≤ 5, 3 ≤ 3 ≤ 6.\n"
      ]
    },
    {
      "cell_type": "code",
      "metadata": {
        "colab": {
          "base_uri": "https://localhost:8080/"
        },
        "id": "4IWiKU8xJH1k",
        "outputId": "95d3f3ec-b83c-4c11-96f1-bdf5f550c59b"
      },
      "source": [
        "# Direct Solution (no more naive BS)\n",
        "\n",
        "# Python3\n",
        "\n",
        "import sys\n",
        "import time\n",
        "\n",
        "n = int(input())\n",
        "lst = []\n",
        "\n",
        "for _ in range(n):\n",
        "    a, b = [int(i) for i in input().split()]\n",
        "    lst.append((a,b))\n",
        "\n",
        "start_time = time.time()\n",
        "\n",
        "lst.sort(key = lambda x: x[1])\n",
        "\n",
        "index = 0\n",
        "coordinates = []\n",
        "\n",
        "while index < n:\n",
        "    curr = lst[index]\n",
        "    while index < n-1 and curr[1]>=lst[index+1][0]:\n",
        "        index += 1\n",
        "    coordinates.append(curr[1])\n",
        "    index += 1\n",
        "print(len(coordinates))\n",
        "print(' '.join([str(i) for i in coordinates]))\n",
        "print(\"--- %s seconds ---\" % (time.time() - start_time))"
      ],
      "execution_count": 11,
      "outputs": [
        {
          "output_type": "stream",
          "text": [
            "3\n",
            "1 3\n",
            "2 5\n",
            "3 6\n",
            "1\n",
            "3\n",
            "--- 0.0004851818084716797 seconds ---\n"
          ],
          "name": "stdout"
        }
      ]
    },
    {
      "cell_type": "markdown",
      "metadata": {
        "id": "Mwe7zLxGJb2E"
      },
      "source": [
        "![imagen.png](data:image/png;base64,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)"
      ]
    }
  ]
}