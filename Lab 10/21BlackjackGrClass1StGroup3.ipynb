{
  "nbformat": 4,
  "nbformat_minor": 0,
  "metadata": {
    "colab": {
      "name": "21BlackjackGrClass1StGroup3.ipynb",
      "provenance": [],
      "collapsed_sections": []
    },
    "kernelspec": {
      "name": "python3",
      "display_name": "Python 3"
    }
  },
  "cells": [
    {
      "cell_type": "markdown",
      "metadata": {
        "id": "tGkFrokIA87l"
      },
      "source": [
        "# **Laboratorio 10 - Algoritmos - Grupo 3**\n",
        "\n",
        "### Montecarlo, ejemplos y ejercicios."
      ]
    },
    {
      "cell_type": "code",
      "metadata": {
        "id": "b5-Af0FGlBdd"
      },
      "source": [
        "import random\n",
        "import matplotlib.pyplot as plt"
      ],
      "execution_count": 4,
      "outputs": []
    },
    {
      "cell_type": "markdown",
      "metadata": {
        "id": "cE76qi4uJhmg"
      },
      "source": [
        "##Funcion de Monte Carlo\n",
        "Funcion que retorna un diccionario cuya llave es la cantidad de cartas requeridas para hacer blackjack y su valor la cantidad acumulada de aciertos para esa cantidad de cartas"
      ]
    },
    {
      "cell_type": "code",
      "metadata": {
        "id": "QK951G9ByfWq"
      },
      "source": [
        "def blackjack(iterations, deck_in, init_deck = []):\n",
        "  results = {}\n",
        "  success = 0\n",
        "  for i in range(iterations):\n",
        "    deck = deck_in.copy()\n",
        "    my_cards = init_deck.copy()\n",
        "    card_count = 0\n",
        "    while(sum(my_cards)<21):\n",
        "      card = random.choice(deck)\n",
        "      my_cards.append(card)\n",
        "      deck.remove(card)\n",
        "      card_count += 1\n",
        "    if(sum(my_cards)==21):\n",
        "      success += 1\n",
        "      if card_count not in results:\n",
        "        results[card_count] = 0  \n",
        "      results[card_count] += 1\n",
        "  return results"
      ],
      "execution_count": 1,
      "outputs": []
    },
    {
      "cell_type": "markdown",
      "metadata": {
        "id": "aY5cEq-YUTO-"
      },
      "source": [
        "##Funcion de estadisticas\n",
        "Función para imprimir las estadisticas arrojadas por la funcion de Monte Carlo"
      ]
    },
    {
      "cell_type": "code",
      "metadata": {
        "id": "X4thoEDAUSlB"
      },
      "source": [
        "def stats(result, iterations):\n",
        "  sum_mean = 0\n",
        "  print(\"21 probability: \", sum(result.values())/iterations)\n",
        "  for key in result:\n",
        "    sum_mean += key * result[key]\n",
        "  try:\n",
        "    print(\"Average card number: \", sum_mean/sum(result.values()))\n",
        "  except ZeroDivisionError:\n",
        "    print(\"Average card number: 0\")\n",
        "  try:\n",
        "    print(\"Max card number: \", max(result.keys()))\n",
        "  except ValueError:\n",
        "    print(\"Max card number: 0\")"
      ],
      "execution_count": 2,
      "outputs": []
    },
    {
      "cell_type": "markdown",
      "metadata": {
        "id": "rrcTrUT1Jboj"
      },
      "source": [
        "##Punto 1:\n",
        "Estimate the probability of getting a 21, the average number of cards required to complete 21 and plot the experimental distribution of the number of card required to complete 21 drawing cards sequentially from a shuffled Spanish 48-card deck with card values **[1,2,3,4,5,6,7,10,11,12,1,2,3,4,5,6,7,8,9,10,11,12,1,2,3,4,5,6,7,8,9,10,11,12,1,2,3,4,5,6,7,8,9,10,11,12]** and from a shuffled Poker 52-card with card values **[1,2,3,4,5,6,7,8,9,10,11,12,13,1,2,3,4,5,6,7,8,9,10,11,12,13,1,2,3,4,5,6,7,8,9,10,11,12,13,1,2,3,4,5,6,7,8,9,10,11,12,13]** using Montecarlo with 10 millions simulations."
      ]
    },
    {
      "cell_type": "code",
      "metadata": {
        "id": "MtYz6pQvwXK1",
        "colab": {
          "base_uri": "https://localhost:8080/",
          "height": 357
        },
        "outputId": "ad9d751c-9679-4698-d78e-95b03861f4e0"
      },
      "source": [
        "pocker_deck = [1,2,3,4,5,6,7,8,9,10,11,12,13]*4\n",
        "iterations = int(10e6)\n",
        "result = blackjack(iterations, pocker_deck)\n",
        "print(\"Poker deck:\")\n",
        "stats(result, iterations)\n",
        "plt.bar(result.keys(), result.values(), 0.8, color='g')"
      ],
      "execution_count": 5,
      "outputs": [
        {
          "output_type": "stream",
          "text": [
            "Poker deck:\n",
            "21 probability:  0.1446511\n",
            "Average card number:  3.2156098363579675\n",
            "Max card number:  10\n"
          ],
          "name": "stdout"
        },
        {
          "output_type": "execute_result",
          "data": {
            "text/plain": [
              "<BarContainer object of 9 artists>"
            ]
          },
          "metadata": {
            "tags": []
          },
          "execution_count": 5
        },
        {
          "output_type": "display_data",
          "data": {
            "image/png": "[encoded data removed]",
            "text/plain": [
              "<Figure size 432x288 with 1 Axes>"
            ]
          },
          "metadata": {
            "tags": [],
            "needs_background": "light"
          }
        }
      ]
    },
    {
      "cell_type": "code",
      "metadata": {
        "id": "LI2nfoQxEdkA",
        "colab": {
          "base_uri": "https://localhost:8080/",
          "height": 338
        },
        "outputId": "976aa780-f534-4879-b354-943420756c71"
      },
      "source": [
        "spanish_deck = [1,2,3,4,5,6,7,10,11,12]*4\n",
        "result = blackjack(iterations, spanish_deck)\n",
        "print(\"Spanish deck:\")\n",
        "stats(result, iterations)\n",
        "plt.bar(result.keys(), result.values(), 0.8, color='g');"
      ],
      "execution_count": 6,
      "outputs": [
        {
          "output_type": "stream",
          "text": [
            "Spanish deck:\n",
            "21 probability:  0.160211\n",
            "Average card number:  3.742224316682375\n",
            "Max card number:  10\n"
          ],
          "name": "stdout"
        },
        {
          "output_type": "display_data",
          "data": {
            "image/png": "[encoded data removed]",
            "text/plain": [
              "<Figure size 432x288 with 1 Axes>"
            ]
          },
          "metadata": {
            "tags": [],
            "needs_background": "light"
          }
        }
      ]
    },
    {
      "cell_type": "markdown",
      "metadata": {
        "id": "UjYe0agJJe22"
      },
      "source": [
        "##Punto 2:\n",
        "Estimate the probability of getting a 21, the average number of cards required to complete 21 and plot the experimental distribution of the number of card required to complete 21 drawing cards sequentially from a shuffled Spanish 48-card deck with card values **[1,2,3,4,5,6,7,10,10,10,1,2,3,4,5,6,7,8,9,10,10,10,1,2,3,4,5,6,7,8,9,10,10,10,1,2,3,4,5,6,7,8,9,10,10,10]** and from a shuffled Poker 52-card deck with card values **[1,2,3,4,5,6,7,8,9,10,11,12,13,1,2,3,4,5,6,7,8,9,10,10,10,10,1,2,3,4,5,6,7,8,9,10,10,10,10,1,2,3,4,5,6,7,8,9,10,10,10,10]** using Montecarlo with 10 millions simulations."
      ]
    },
    {
      "cell_type": "code",
      "metadata": {
        "id": "x_pCB6JmEvhr",
        "colab": {
          "base_uri": "https://localhost:8080/",
          "height": 338
        },
        "outputId": "22de0a40-69c9-4381-acd0-3c7d4e802fcf"
      },
      "source": [
        "pocker_deck_m10 = [1,2,3,4,5,6,7,8,9,10,10,10,10]*4\n",
        "iterations = int(10e6)\n",
        "result = blackjack(iterations, pocker_deck_m10)\n",
        "result_poker = sum(result.values())/iterations\n",
        "print(\"Poker deck:\")\n",
        "stats(result, iterations)\n",
        "plt.bar(result.keys(), result.values(), 0.8, color='g');"
      ],
      "execution_count": 7,
      "outputs": [
        {
          "output_type": "stream",
          "text": [
            "Poker deck:\n",
            "21 probability:  0.1400422\n",
            "Average card number:  3.5774023829959827\n",
            "Max card number:  9\n"
          ],
          "name": "stdout"
        },
        {
          "output_type": "display_data",
          "data": {
            "image/png": "[encoded data removed]",
            "text/plain": [
              "<Figure size 432x288 with 1 Axes>"
            ]
          },
          "metadata": {
            "tags": [],
            "needs_background": "light"
          }
        }
      ]
    },
    {
      "cell_type": "code",
      "metadata": {
        "id": "P9R18vnaEpSA",
        "colab": {
          "base_uri": "https://localhost:8080/",
          "height": 338
        },
        "outputId": "2e73791e-2713-4352-e4da-a962201b5373"
      },
      "source": [
        "spanish_deck_m10 = [1,2,3,4,5,6,7,10,10,10]*4\n",
        "result = blackjack(iterations, spanish_deck_m10)\n",
        "result_spanish = sum(result.values())/iterations\n",
        "print(\"Spanish deck:\")\n",
        "stats(result, iterations)\n",
        "plt.bar(result.keys(), result.values(), 0.8, color='g');"
      ],
      "execution_count": 8,
      "outputs": [
        {
          "output_type": "stream",
          "text": [
            "Spanish deck:\n",
            "21 probability:  0.1662502\n",
            "Average card number:  3.9525847186950753\n",
            "Max card number:  10\n"
          ],
          "name": "stdout"
        },
        {
          "output_type": "display_data",
          "data": {
            "image/png": "[encoded data removed]",
            "text/plain": [
              "<Figure size 432x288 with 1 Axes>"
            ]
          },
          "metadata": {
            "tags": [],
            "needs_background": "light"
          }
        }
      ]
    },
    {
      "cell_type": "markdown",
      "metadata": {
        "id": "Q_SSG017Jrtq"
      },
      "source": [
        "##Punto 3:\n",
        "Estimate the probability of getting a 21, the average total number of cards required to complete 21 (including the three that you start with) and plot the experimental distribution of the number of card required to complete 21 with drawing cards sequentially from a shuffled Spanish 48-card deck with 3 10’s and a shuffled Poker 52-card deck with 4 10’s, assuming that you have in your hand the cards [7,7,5]ae and the remaining deck has n/2 cards. You can pick the n/2 cards in the remaining deck in whatever way you choose but with restriction that this has maximum two 7s and three 5, you have to keep the remaining deck fixed through the simulations, use Montecarlo with 10 millions simulations."
      ]
    },
    {
      "cell_type": "code",
      "metadata": {
        "id": "NgMSip9xJweV",
        "colab": {
          "base_uri": "https://localhost:8080/",
          "height": 338
        },
        "outputId": "00e38a28-0967-4d73-d6ec-eba2afd1703d"
      },
      "source": [
        "init_deck = [7,7,5]\n",
        "iterations = int(10e6)\n",
        "pocker_deck_less = [1,2,3,4,6,8,9,10,10,10,10]*2 + [5]\n",
        "result = blackjack(iterations, pocker_deck_less, init_deck)\n",
        "print(\"Poker deck:\")\n",
        "stats(result, iterations)\n",
        "plt.bar(result.keys(), result.values(), 0.8, color='g');"
      ],
      "execution_count": 9,
      "outputs": [
        {
          "output_type": "stream",
          "text": [
            "Poker deck:\n",
            "21 probability:  0.0911252\n",
            "Average card number:  1.0436662964800076\n",
            "Max card number:  2\n"
          ],
          "name": "stdout"
        },
        {
          "output_type": "display_data",
          "data": {
            "image/png": "[encoded data removed]",
            "text/plain": [
              "<Figure size 432x288 with 1 Axes>"
            ]
          },
          "metadata": {
            "tags": [],
            "needs_background": "light"
          }
        }
      ]
    },
    {
      "cell_type": "code",
      "metadata": {
        "id": "b8fKzxdIFr4Z",
        "colab": {
          "base_uri": "https://localhost:8080/",
          "height": 349
        },
        "outputId": "66b9c5ee-a1c0-4344-8440-a69064aca53b"
      },
      "source": [
        "spanish_deck_less = [1,2,3,4,6,10,10,10]*4 + [5]\n",
        "result = blackjack(iterations, spanish_deck_less, init_deck)\n",
        "print(\"Spanish deck:\")\n",
        "stats(result, iterations)\n",
        "plt.bar(result.keys(), result.values(), 0.8, color='g');"
      ],
      "execution_count": 10,
      "outputs": [
        {
          "output_type": "stream",
          "text": [
            "Spanish deck:\n",
            "21 probability:  0.1324028\n",
            "Average card number:  1.085705136145157\n",
            "Max card number:  2\n"
          ],
          "name": "stdout"
        },
        {
          "output_type": "display_data",
          "data": {
            "image/png": "[encoded data removed]",
            "text/plain": [
              "<Figure size 432x288 with 1 Axes>"
            ]
          },
          "metadata": {
            "tags": [],
            "needs_background": "light"
          }
        }
      ]
    },
    {
      "cell_type": "markdown",
      "metadata": {
        "id": "5KMjT5SDGATA"
      },
      "source": [
        "##Punto 4:\n",
        "Estimate and calculate analytically the probability of getting a 21, the average total number of cards required to complete 21 and the experimental distribution of the number of card required to complete 21; assuming that you have in your hand the cards [7,7,5] and the remaining deck has two possible sets of 8 cards for the regular Spanish 48-card deck and the Poker 52-card decks. The two possible remaining decks are a (hot deck) that contains four 1 cards and four 2 cards a (cold deck) with not 1 or 2 cards, for the estimations use Montecarlo with 10 million simulations."
      ]
    },
    {
      "cell_type": "code",
      "metadata": {
        "id": "78dE7THQOBbB",
        "colab": {
          "base_uri": "https://localhost:8080/"
        },
        "outputId": "9a37afcb-04e5-4213-f0ec-3f0e06d41ac4"
      },
      "source": [
        "prob_get_2 = 4/8\n",
        "prob_get_first_1 = 4/8\n",
        "prob_get_second_1 = 3/7\n",
        "result_hot_deck = prob_get_2 + (prob_get_first_1 * prob_get_second_1)\n",
        "print(\"Calculated probability\", result_hot_deck)"
      ],
      "execution_count": 11,
      "outputs": [
        {
          "output_type": "stream",
          "text": [
            "Calculated probability 0.7142857142857143\n"
          ],
          "name": "stdout"
        }
      ]
    },
    {
      "cell_type": "code",
      "metadata": {
        "id": "WEPx5ZVELVSF",
        "colab": {
          "base_uri": "https://localhost:8080/",
          "height": 349
        },
        "outputId": "f676dd3c-09a6-4ed6-efe0-b86d7dcb8106"
      },
      "source": [
        "init_deck = [7,7,5]\n",
        "iterations = int(10e6)\n",
        "hot_deck = [1,2]*4\n",
        "result = blackjack(iterations, hot_deck, init_deck)\n",
        "print(\"Hot deck:\")\n",
        "stats(result, iterations)\n",
        "plt.bar(result.keys(), result.values(), 0.8, color='g');"
      ],
      "execution_count": 12,
      "outputs": [
        {
          "output_type": "stream",
          "text": [
            "Hot deck:\n",
            "21 probability:  0.7142771\n",
            "Average card number:  1.3003722224890033\n",
            "Max card number:  2\n"
          ],
          "name": "stdout"
        },
        {
          "output_type": "display_data",
          "data": {
            "image/png": "[encoded data removed]",
            "text/plain": [
              "<Figure size 432x288 with 1 Axes>"
            ]
          },
          "metadata": {
            "tags": [],
            "needs_background": "light"
          }
        }
      ]
    },
    {
      "cell_type": "code",
      "metadata": {
        "id": "BVePFulELVJa",
        "colab": {
          "base_uri": "https://localhost:8080/",
          "height": 338
        },
        "outputId": "6cc2afd4-dd77-4874-99bb-bc39805b87f2"
      },
      "source": [
        "poker_deck_cold = [3,4,6,8,9,10,10,10,10]*4 + [7,7,5,5,5]\n",
        "result = blackjack(iterations, poker_deck_cold, init_deck)\n",
        "print(\"Poker cold deck:\")\n",
        "stats(result, iterations)\n",
        "plt.bar(result.keys(), result.values(), 0.8, color='g');"
      ],
      "execution_count": 13,
      "outputs": [
        {
          "output_type": "stream",
          "text": [
            "Poker cold deck:\n",
            "21 probability:  0.0\n",
            "Average card number: 0\n",
            "Max card number: 0\n"
          ],
          "name": "stdout"
        },
        {
          "output_type": "display_data",
          "data": {
            "image/png": "[encoded data removed]",
            "text/plain": [
              "<Figure size 432x288 with 1 Axes>"
            ]
          },
          "metadata": {
            "tags": [],
            "needs_background": "light"
          }
        }
      ]
    },
    {
      "cell_type": "code",
      "metadata": {
        "id": "RTrVkqV3Lb2R",
        "colab": {
          "base_uri": "https://localhost:8080/",
          "height": 338
        },
        "outputId": "032cb01e-f036-458f-d817-9e64b0673752"
      },
      "source": [
        "spanish_deck_cold = [3,4,6,10,10,10]*4 + [7,7,5,5,5]\n",
        "result = blackjack(iterations, spanish_deck_cold, init_deck)\n",
        "print(\"Spanish cold deck:\")\n",
        "stats(result, iterations)\n",
        "plt.bar(result.keys(), result.values(), 0.8, color='g');"
      ],
      "execution_count": 14,
      "outputs": [
        {
          "output_type": "stream",
          "text": [
            "Spanish cold deck:\n",
            "21 probability:  0.0\n",
            "Average card number: 0\n",
            "Max card number: 0\n"
          ],
          "name": "stdout"
        },
        {
          "output_type": "display_data",
          "data": {
            "image/png": "[encoded data removed]",
            "text/plain": [
              "<Figure size 432x288 with 1 Axes>"
            ]
          },
          "metadata": {
            "tags": [],
            "needs_background": "light"
          }
        }
      ]
    },
    {
      "cell_type": "markdown",
      "metadata": {
        "id": "T93yeLIYPKzW"
      },
      "source": [
        "##Punto 5:\n",
        "Estimate the average amount of money (expected value) that Ben wins or losses on a weekend if Ben goes to Vegas every weekend (Friday, Saturday and Sunday), plays every weekend day 10 hours, each game takes 3 mins. Assume that for each game he gets two possibilities, in one he gets in his hand the cards [7,7,5] and a remaining hot deck with 8 cards in which case he bets \\$1000 this happens with probability 1/10; in the other one he gets no cards in his hand a complete shuffled deck in which case he bets \\$10, this happens with the remaining probability 9/10. Use 10000 Montecarlo simulations to estimated the expected amount of money that Ben wins or losses on a weekend for a Spanish 48-card deck with 3 10’s and for a Poker 52-card deck with 4 10’s."
      ]
    },
    {
      "cell_type": "markdown",
      "metadata": {
        "id": "83SXNO41ZfMr"
      },
      "source": [
        "La funcion ben_game calcula la cantidad estimada de dinero que puede ganar Ben"
      ]
    },
    {
      "cell_type": "code",
      "metadata": {
        "id": "pqahcu2UZbGN"
      },
      "source": [
        "def ben_game(deck_in, iterations, game_duration_mins = 3, gameplay_duration_hours = 10, \n",
        "             gameplay_duration_days = 3, hot_deck_prob = 1/10, cold_deck_prob = 9/10, \n",
        "             hot_deck_bet = 1000, cold_deck_bet = 10):\n",
        "  gameplay_total = 60 * gameplay_duration_hours * gameplay_duration_days / game_duration_mins\n",
        "  init_deck = [7,7,5]\n",
        "  hot_deck = [1,2]*4\n",
        "  bet = 0\n",
        "  wallet = 0\n",
        "  for game in range(int(gameplay_total)):\n",
        "    if (random.random()>hot_deck_prob):\n",
        "      result = blackjack(iterations, deck_in)\n",
        "      bet = cold_deck_bet\n",
        "    else:\n",
        "      result = blackjack(iterations, hot_deck, init_deck)\n",
        "      bet = hot_deck_bet\n",
        "    prob_success = sum(result.values())/iterations\n",
        "    if (random.random()<prob_success):\n",
        "      wallet += bet\n",
        "    else:\n",
        "      wallet -= bet\n",
        "  return wallet"
      ],
      "execution_count": 15,
      "outputs": []
    },
    {
      "cell_type": "code",
      "metadata": {
        "id": "6Himg8ChPkuo",
        "colab": {
          "base_uri": "https://localhost:8080/"
        },
        "outputId": "c04be838-5e16-4184-aff7-614cbeec2434"
      },
      "source": [
        "pocker_deck_m10 = [1,2,3,4,5,6,7,8,9,10,10,10,10]*4\n",
        "spanish_deck_m10 = [1,2,3,4,5,6,7,10,10,10]*4\n",
        "iterations = int(10e3)\n",
        "\n",
        "print(\"Average amount with pocker deck: $\", ben_game(pocker_deck_m10, iterations))\n",
        "print(\"Average amount with spanish deck: $\", ben_game(spanish_deck_m10, iterations))"
      ],
      "execution_count": 16,
      "outputs": [
        {
          "output_type": "stream",
          "text": [
            "Average amount with pocker deck: $ 17070\n",
            "Average amount with spanish deck: $ 16400\n"
          ],
          "name": "stdout"
        }
      ]
    },
    {
      "cell_type": "markdown",
      "metadata": {
        "id": "JYmTzCDFsrX3"
      },
      "source": [
        "##Punto 6:\n",
        "Calculate analytically the average amount of money (expected values) that Ben wins or losses on a weekend for a Spanish 48-card deck with 3 10’s and for a Poker 52-card deck with 4 10’s."
      ]
    },
    {
      "cell_type": "markdown",
      "metadata": {
        "id": "HaKha6dpJVu3"
      },
      "source": [
        "We could calculate the mathematical win probability of both decks but it's expensive, however we are going to use the result in point 1 to define the win probability of both decks.\n",
        "To calculate analytically the average amount of money, we take the probability of win a match times the amount invested less the probability of lose a match times the amount invested \\begin{align*}\n",
        "P(win)*amount - P(lose)*amount = & \\\\\n",
        "amount(P(win)-P(lose)) = \\\\\n",
        "amount(P(win)-(1-P(win))) =  \\\\\n",
        "amount(2*P(win) - 1)\n",
        "\\end{align*}\n",
        "then we multiply this amount of money with the probability of each type of game (hot deck and normal deck) to know how much money he obtain in each game $$\n",
        "P(hd)*amount_{hd} + P(nd)*amount_{nd} = amount_{match}$$\n",
        "finally to obtain the expected amount of money we multiply the match amount times the games played\n",
        "$$amount_{match} * (hoursPlayed*daysPlayed*60 min/matchDuration)$$"
      ]
    },
    {
      "cell_type": "code",
      "metadata": {
        "colab": {
          "base_uri": "https://localhost:8080/"
        },
        "id": "4HuaVLI61tMp",
        "outputId": "77a3b6fc-6300-42fd-9f5d-bccaec6cfa89"
      },
      "source": [
        "p_win_hd = result_hot_deck\n",
        "p_win_nd = result_poker\n",
        "games_played = (10*3*60/3)\n",
        "amount_match = 1/10*(1000*((2*p_win_hd)-1)) + 9/10*(10*((2*p_win_nd)-1))\n",
        "print(\"Expected amount of money with pocker deck: $\", amount_match * games_played)\n",
        "p_win_nd = result_spanish\n",
        "amount_match = 1/10*(1000*((2*p_win_hd)-1)) + 9/10*(10*((2*p_win_nd)-1))\n",
        "print(\"Expected amount of money with spanish deck: $\", amount_match * games_played)"
      ],
      "execution_count": 17,
      "outputs": [
        {
          "output_type": "stream",
          "text": [
            "Expected amount of money with pocker deck: $ 21826.741474285715\n",
            "Expected amount of money with spanish deck: $ 22109.787874285717\n"
          ],
          "name": "stdout"
        }
      ]
    }
  ]
}