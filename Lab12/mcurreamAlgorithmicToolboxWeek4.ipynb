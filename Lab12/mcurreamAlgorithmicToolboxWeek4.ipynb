{
  "nbformat": 4,
  "nbformat_minor": 0,
  "metadata": {
    "colab": {
      "name": "AlgorithmicToolboxWeek4.ipynb",
      "provenance": [],
      "collapsed_sections": []
    },
    "kernelspec": {
      "name": "python3",
      "display_name": "Python 3"
    },
    "language_info": {
      "name": "python"
    }
  },
  "cells": [
    {
      "cell_type": "markdown",
      "metadata": {
        "id": "hRoBoSVGKCQ3"
      },
      "source": [
        "# **Introduction**\n",
        "\n",
        "In this programming assignment, you will be practicing implementing divide-and-conquer solutions."
      ]
    },
    {
      "cell_type": "markdown",
      "metadata": {
        "id": "fidqKjaVKPl0"
      },
      "source": [
        "## Binary Search\n",
        "\n",
        "Problem Description\n",
        "\n",
        "**Task.** The goal in this code problem is to implement the binary search algorithm.\n",
        "\n",
        "**Input Format.** The first line of the input contains an integer 𝑛 and a sequence 𝑎0 < 𝑎1 < . . . < 𝑎𝑛−1 of 𝑛 pairwise distinct positive integers in increasing order. The next line contains an integer 𝑘 and 𝑘 positive integers 𝑏0, 𝑏1, . . . , 𝑏𝑘−1.\n",
        "\n",
        "**Constraints.** 1 ≤ 𝑘 ≤ $10^5$; 1 ≤ 𝑛 ≤ 3 · $10^4$; 1 ≤ 𝑎𝑖 ≤ $10^9$ for all 0 ≤ 𝑖 < 𝑛; 1 ≤ 𝑏𝑗 ≤ $10^9$ for all 0 ≤ 𝑗 < 𝑘;\n",
        "\n",
        "**Output Format.** For all 𝑖 from 0 to 𝑘 − 1, output an index 0 ≤ 𝑗 ≤ 𝑛 − 1 such that 𝑎𝑗 = 𝑏𝑖 or −1 if there is no such index.\n",
        "\n",
        "$\\underline{Sample \\hspace{0.2cm} 1.}$\n",
        "\n",
        "Input:\n",
        "\n",
        "`5 1 5 8 12 13`\n",
        "\n",
        "`5 8 1 23 1 11`\n",
        "\n",
        "Output:\n",
        "\n",
        "`2 0 -1 0 -1`\n",
        "\n",
        "In this sample, we are given an increasing sequence 𝑎0 = 1, 𝑎1 = 5, 𝑎2 = 8, 𝑎3 = 12, 𝑎4 = 13 of length five and five keys to search: 8, 1, 23, 1, 11. We see that 𝑎2 = 8 and 𝑎0 = 1, but the keys 23 and 11 do not appear in the sequence 𝑎. For this reason, we output a sequence 2, 0,−1, 0,−1."
      ]
    },
    {
      "cell_type": "code",
      "metadata": {
        "colab": {
          "base_uri": "https://localhost:8080/"
        },
        "id": "wGb3kFlrJxsk",
        "outputId": "6a1fa54f-3f5d-4e77-ebb8-5f283e19315d"
      },
      "source": [
        "# Direct Solution\n",
        "\n",
        "# Python3\n",
        "\n",
        "import sys\n",
        "import time\n",
        "\n",
        "seq = [int(i) for i in input().split()]\n",
        "search_seq = [int(i) for i in input().split()]\n",
        "\n",
        "start_time = time.time()\n",
        "n = seq[0]\n",
        "seq = seq[1:]\n",
        "\n",
        "def fast_binary_search(seq, elt, r):\n",
        "    l = 0\n",
        "    while l<=r: \n",
        "        m = (l+r)//2\n",
        "        if elt > seq[m]:\n",
        "            l = m + 1\n",
        "        elif elt < seq[m]:\n",
        "            r = m - 1\n",
        "        else:\n",
        "            return m\n",
        "    return -1\n",
        "\n",
        "soln = list()\n",
        "for i in search_seq[1:]:\n",
        "    ans = fast_binary_search(seq, i, n-1)\n",
        "    soln.append(ans)\n",
        "print(' '.join([str(i) for i in soln]))\n",
        "print(\"--- %s seconds ---\" % (time.time() - start_time))"
      ],
      "execution_count": 1,
      "outputs": [
        {
          "output_type": "stream",
          "text": [
            "5 1 5 8 12 13\n",
            "5 8 1 23 1 11\n",
            "2 0 -1 0 -1\n",
            "--- 0.0005540847778320312 seconds ---\n"
          ],
          "name": "stdout"
        }
      ]
    },
    {
      "cell_type": "markdown",
      "metadata": {
        "id": "KoNLkspGLMVs"
      },
      "source": [
        "## Majority Element\n",
        "\n",
        "Problem Description\n",
        "\n",
        "**Task.** The goal in this code problem is to check whether an input sequence contains a majority element.\n",
        "\n",
        "**Input Format.** The first line contains an integer 𝑛, the next one contains a sequence of 𝑛 non-negative integers 𝑎0, 𝑎1, . . . , 𝑎𝑛−1.\n",
        "\n",
        "**Constraints.** 1 ≤ 𝑛 ≤ $10^5$; 0 ≤ 𝑎𝑖 ≤ $10^9$ for all 0 ≤ 𝑖 < 𝑛.\n",
        "\n",
        "**Output Format.** Output 1 if the sequence contains an element that appears strictly more than 𝑛/2 times, and 0 otherwise.\n",
        "\n",
        "$\\underline{Sample \\hspace{0.2cm} 1.}$\n",
        "\n",
        "Input:\n",
        "\n",
        "`5`\n",
        "\n",
        "`2 3 9 2 2`\n",
        "\n",
        "Output:\n",
        "\n",
        "`1`\n",
        "\n",
        "2 is the majority element."
      ]
    },
    {
      "cell_type": "code",
      "metadata": {
        "colab": {
          "base_uri": "https://localhost:8080/"
        },
        "id": "2Pt2zq24Lixs",
        "outputId": "4052dcdb-d4bb-4225-c80e-e5ddff2ba9e0"
      },
      "source": [
        "# Direct Solution\n",
        "\n",
        "# Python3\n",
        "\n",
        "import sys\n",
        "import time\n",
        "\n",
        "n = int(input())\n",
        "seq = [int(i) for i in input().split()]\n",
        "\n",
        "\n",
        "def functional_divide(seq, l, r):\n",
        "    if l+1==r:\n",
        "        return seq[l]\n",
        "    elif l+2==r:\n",
        "        return seq[l]\n",
        "    m = (l+r)//2\n",
        "    left = functional_divide(seq, l, m)\n",
        "    right = functional_divide(seq, m, r)\n",
        "\n",
        "    c1, c2 = 0, 0\n",
        "    for i in seq[l:r]:\n",
        "        if i == left:\n",
        "            c1+=1\n",
        "        elif i == right:\n",
        "            c2+=1\n",
        "    if c1>(r-l)//2 and left != -1:\n",
        "        return left\n",
        "    elif c2>(r-l)//2 and right != -1:\n",
        "        return right\n",
        "    else: \n",
        "        return -1\n",
        "\n",
        "start_time = time.time()\n",
        "print(int(functional_divide(seq, 0, n) != -1))\n",
        "print(\"--- %s seconds ---\" % (time.time() - start_time))"
      ],
      "execution_count": 2,
      "outputs": [
        {
          "output_type": "stream",
          "text": [
            "5\n",
            "2 3 9 2 2\n",
            "1\n",
            "--- 0.0002579689025878906 seconds ---\n"
          ],
          "name": "stdout"
        }
      ]
    },
    {
      "cell_type": "markdown",
      "metadata": {
        "id": "7kZvBEGvL0Mk"
      },
      "source": [
        "## Improving Quick Sort\n",
        "\n",
        "Problem Description\n",
        "\n",
        "**Task.** To force the given implementation of the quick sort algorithm to efficiently process sequences with few unique elements, your goal is replace a 2-way partition with a 3-way partition. That is, your new partition procedure should partition the array into three parts: < 𝑥 part, = 𝑥 part, and > 𝑥 part.\n",
        "\n",
        "**Input Format.** The first line of the input contains an integer 𝑛. The next line contains a sequence of 𝑛 integers 𝑎0, 𝑎1, . . . , 𝑎𝑛−1.\n",
        "\n",
        "**Constraints.** 1 ≤ 𝑛 ≤ $10^5$; 1 ≤ 𝑎𝑖 ≤ $10^9$ for all 0 ≤ 𝑖 < 𝑛.\n",
        "\n",
        "**Output Format.** Output this sequence sorted in non-decreasing order.\n",
        "\n",
        "$\\underline{Sample \\hspace{0.2cm} 1.}$\n",
        "\n",
        "Input:\n",
        "\n",
        "`5`\n",
        "\n",
        "`2 3 9 2 2`\n",
        "\n",
        "Output:\n",
        "\n",
        "`2 2 2 3 9`\n"
      ]
    },
    {
      "cell_type": "code",
      "metadata": {
        "colab": {
          "base_uri": "https://localhost:8080/"
        },
        "id": "fn_BfDA7MXPc",
        "outputId": "48c07bf6-0137-4c3a-eb79-bd3e5eb09261"
      },
      "source": [
        "# Direct Solution\n",
        "\n",
        "# Python3\n",
        "\n",
        "import sys\n",
        "import random\n",
        "import time\n",
        "\n",
        "def quicksort3(arr, l, r):\n",
        "    # print('Splitting:', arr[l:r])\n",
        "    if l + 1 >= r:\n",
        "        return\n",
        "\n",
        "    # Pivot selection; Return a random integer N such that l <= N <= r\n",
        "    m = random.randint(l, r-1)\n",
        "    # temp = sorted([(0,arr[0]), ((l+r)//2,arr[(l+r)//2]), (-1,arr[-1])], key = lambda x: x[1])\n",
        "    # m = temp[1][0]\n",
        "    arr[l], arr[m] = arr[m], arr[l]\n",
        "\n",
        "    # partition procedure\n",
        "    m1, m2 = partition3(arr, l, r)\n",
        "\n",
        "    quicksort3(arr, l, m1)\n",
        "    quicksort3(arr, m2+1, r)\n",
        "\n",
        "def partition3(arr, l, r):\n",
        "    m2 = l\n",
        "    for i in range(l+1, r):\n",
        "        if arr[i] <= arr[l]:\n",
        "            arr[m2+1], arr[i] = arr[i], arr[m2+1]\n",
        "            m2 += 1\n",
        "\n",
        "    arr[l], arr[m2] = arr[m2], arr[l]\n",
        "\n",
        "    m1 = l\n",
        "    for i in range(l, m2):\n",
        "        if arr[i] < arr[m2]:\n",
        "            arr[i], arr[m1] = arr[m1], arr[i]\n",
        "            m1 += 1\n",
        "    return m1, m2\n",
        "\n",
        "def create_array(size):\n",
        "    return [random.choice(list(range(10))) for _ in range(size)]\n",
        "\n",
        "# n = int(input())\n",
        "# seq = [int(i) for i in input().split()]\n",
        "# for x in seq:\n",
        "    # print(x, end=' ')\n",
        "\n",
        "t1 = time.time()\n",
        "seq = create_array(100000)\n",
        "quicksort3(seq, 0, 100000)\n",
        "t2 = time.time()\n",
        "print('Time taken:', t2-t1)"
      ],
      "execution_count": 10,
      "outputs": [
        {
          "output_type": "stream",
          "text": [
            "Time taken: 0.2901473045349121\n"
          ],
          "name": "stdout"
        }
      ]
    },
    {
      "cell_type": "code",
      "metadata": {
        "colab": {
          "base_uri": "https://localhost:8080/"
        },
        "id": "2XFmB0lYNscM",
        "outputId": "fbf41072-33b0-4636-d40c-c7146d6ae0f0"
      },
      "source": [
        "# Direct Solution - C++ (Way Better)\n",
        "\n",
        "%%writefile Quicksort.cpp\n",
        "\n",
        "#include <cstdlib>\n",
        "#include <iostream>\n",
        "#include <utility>\n",
        "#include <vector>\n",
        "\n",
        "using std::swap;\n",
        "using std::vector;\n",
        "\n",
        "int partition2(vector<int> &a, int l, int r) {\n",
        "\tint x = a[l];\n",
        "\tint j = l;\n",
        "\tfor (int i = l + 1; i <= r; i++) {\n",
        "\t\tif (a[i] <= x) {\n",
        "\t\t\tj++;\n",
        "\t\t\tswap(a[i], a[j]);\n",
        "\t\t}\n",
        "\t}\n",
        "\tswap(a[l], a[j]);\n",
        "\treturn j;\n",
        "}\n",
        "\n",
        "std::pair<int, int> partition3(vector<int> &a, int l, int r) {\n",
        "\tint x = a[l];\n",
        "\tint j = l;\n",
        "\tint k = r;\n",
        "\tfor (int i = l; i <= r; i++) {\n",
        "\t\tif (a[i] < x) {\n",
        "\t\t\tswap(a[i], a[j]);\n",
        "\t\t\tj++;\n",
        "\t\t}\n",
        "\t}\n",
        "\tfor (int i = r; i >= l; i--) {\n",
        "\t\tif (a[i] > x) {\n",
        "\t\t\tswap(a[i], a[k]);\n",
        "\t\t\tk--;\n",
        "\t\t}\n",
        "\t}\n",
        "\n",
        "\tfor (int i = j; i <= k; i++) { a[i] = x; }\n",
        "\n",
        "\treturn std::make_pair(j, k);\n",
        "}\n",
        "\n",
        "void randomized_quick_sort(vector<int> &a, int l, int r) {\n",
        "\tif (l >= r) { return; }\n",
        "\n",
        "\tint k = l + rand() % (r - l + 1);\n",
        "\tswap(a[l], a[k]);\n",
        "\tauto m = partition3(a, l, r);\n",
        "\n",
        "\trandomized_quick_sort(a, l, m.first - 1);\n",
        "\trandomized_quick_sort(a, m.second + 1, r);\n",
        "}\n",
        "\n",
        "int main() {\n",
        "\tint n;\n",
        "\tstd::cin >> n;\n",
        "\tvector<int> a(n);\n",
        "\tfor (size_t i = 0; i < a.size(); ++i) { std::cin >> a[i]; }\n",
        "\trandomized_quick_sort(a, 0, a.size() - 1);\n",
        "\tfor (size_t i = 0; i < a.size(); ++i) { std::cout << a[i] << ' '; }\n",
        "}"
      ],
      "execution_count": 13,
      "outputs": [
        {
          "output_type": "stream",
          "text": [
            "Writing Quicksort.cpp\n"
          ],
          "name": "stdout"
        }
      ]
    },
    {
      "cell_type": "code",
      "metadata": {
        "colab": {
          "base_uri": "https://localhost:8080/"
        },
        "id": "McIShDeOOYF0",
        "outputId": "763f7a1f-2357-4767-d913-ef6679d1181d"
      },
      "source": [
        "%%shell \n",
        "g++ Quicksort.cpp -o output\n",
        "./output"
      ],
      "execution_count": 14,
      "outputs": [
        {
          "output_type": "stream",
          "text": [
            "5\n",
            "2 3 9 2 2\n",
            "2 2 2 3 9 "
          ],
          "name": "stdout"
        },
        {
          "output_type": "execute_result",
          "data": {
            "text/plain": [
              ""
            ]
          },
          "metadata": {
            "tags": []
          },
          "execution_count": 14
        }
      ]
    },
    {
      "cell_type": "markdown",
      "metadata": {
        "id": "cT2vpvWlOprt"
      },
      "source": [
        "## Number of Inversions\n",
        "\n",
        "Problem Description\n",
        "\n",
        "**Task.** The goal in this problem is to count the number of inversions of a given sequence.\n",
        "\n",
        "**Input Format.** The first line contains an integer 𝑛, the next one contains a sequence of integers 𝑎0, 𝑎1, . . . , 𝑎𝑛−1.\n",
        "\n",
        "**Constraints.** 1 ≤ 𝑛 ≤ $10^5$; 1 ≤ 𝑎𝑖 ≤ $10^9$ for all 0 ≤ 𝑖 < 𝑛.\n",
        "\n",
        "**Output Format.** Output the number of inversions in the sequence.\n",
        "\n",
        "$\\underline{Sample \\hspace{0.2cm} 1.}$\n",
        "\n",
        "Input:\n",
        "\n",
        "`5`\n",
        "\n",
        "`2 3 9 2 2`\n",
        "\n",
        "Output:\n",
        "\n",
        "`2`\n",
        "\n",
        "The two inversions here are (1, 3) (𝑎1 = 3 > 2 = 𝑎3) and (2, 3) (𝑎2 = 9 > 2 = 𝑎3)."
      ]
    },
    {
      "cell_type": "code",
      "metadata": {
        "colab": {
          "base_uri": "https://localhost:8080/"
        },
        "id": "zdjw2bIqPCp2",
        "outputId": "f4ae238c-61b3-4ec7-f83a-2ad7fa24e752"
      },
      "source": [
        "# Direct Solution\n",
        "\n",
        "# Python3\n",
        "\n",
        "def merge(left, right):\n",
        "    i, j, inversion_counter = 0, 0, 0\n",
        "    final = list()\n",
        "    while i < len(left) and j< len(right):\n",
        "        if left[i] <= right[j]:\n",
        "            final.append(left[i])\n",
        "            i += 1\n",
        "        else:\n",
        "            final.append(right[j])\n",
        "            inversion_counter += len(left) - i\n",
        "            j += 1\n",
        "\n",
        "    final += left[i:]\n",
        "    final += right[j:]\n",
        "        \n",
        "    return final, inversion_counter\n",
        "\n",
        "def mergesort(arr):\n",
        "    global tot_count\n",
        "    if len(arr) <= 1:\n",
        "        return arr\n",
        "    mid = len(arr)//2\n",
        "\n",
        "    left = mergesort(arr[:mid])\n",
        "    right = mergesort(arr[mid:])\n",
        "\n",
        "    sorted_arr, temp = merge(left, right)\n",
        "    tot_count += temp\n",
        "\n",
        "    return sorted_arr\n",
        "\n",
        "tot_count = 0\n",
        "n = int(input())\n",
        "seq = [int(i) for i in input().split()]\n",
        "start_time = time.time()\n",
        "mergesort(seq)\n",
        "print(int(tot_count/2))\n",
        "print(\"--- %s seconds ---\" % (time.time() - start_time))"
      ],
      "execution_count": 17,
      "outputs": [
        {
          "output_type": "stream",
          "text": [
            "5\n",
            "2 3 9 2 2\n",
            "2\n",
            "--- 0.000274658203125 seconds ---\n"
          ],
          "name": "stdout"
        }
      ]
    },
    {
      "cell_type": "markdown",
      "metadata": {
        "id": "lEv9KkC_PsTs"
      },
      "source": [
        "![imagen.png](data:image/png;base64,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)"
      ]
    }
  ]
}