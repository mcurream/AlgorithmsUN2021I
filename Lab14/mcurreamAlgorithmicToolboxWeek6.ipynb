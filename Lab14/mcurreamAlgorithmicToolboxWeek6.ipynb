{
  "nbformat": 4,
  "nbformat_minor": 0,
  "metadata": {
    "colab": {
      "name": "AlgorithmicToolboxWeek6.ipynb",
      "provenance": [],
      "collapsed_sections": []
    },
    "kernelspec": {
      "name": "python3",
      "display_name": "Python 3"
    },
    "language_info": {
      "name": "python"
    }
  },
  "cells": [
    {
      "cell_type": "markdown",
      "metadata": {
        "id": "qwKStEhSJK1B"
      },
      "source": [
        "# **Introduction**\n",
        "\n",
        "In this programming assignment, you will continue practicing implementing dynamic programming solutions."
      ]
    },
    {
      "cell_type": "markdown",
      "metadata": {
        "id": "6h_QilcYJSlA"
      },
      "source": [
        "## Maximum Amount of Gold\n",
        "\n",
        "Problem Description\n",
        "\n",
        "**Task.** Given 𝑛 gold bars, find the maximum weight of gold that fits into a bag of capacity 𝑊.\n",
        "\n",
        "**Input Format.** The first line of the input contains the capacity 𝑊 of a knapsack and the number 𝑛 of bars of gold. The next line contains 𝑛 integers 𝑤0,𝑤1, . . . ,𝑤𝑛−1 defining the weights of the bars of gold.\n",
        "\n",
        "**Constraints.** 1 ≤ 𝑊 ≤ $10^4$; 1 ≤ 𝑛 ≤ 300; 0 ≤ 𝑤0, . . . ,𝑤𝑛−1 ≤ $10^5$.\n",
        "\n",
        "**Output Format.** Output the maximum weight of gold that fits into a knapsack of capacity 𝑊.\n",
        "\n",
        "$\\underline{Sample \\hspace{0.2cm} 1.}$\n",
        "\n",
        "Input:\n",
        "\n",
        "`10 3`\n",
        "\n",
        "`1 4 8`\n",
        "\n",
        "Output:\n",
        "\n",
        "`9`\n",
        "\n",
        "Here, the sum of the weights of the first and the last bar is equal to 9.\n"
      ]
    },
    {
      "cell_type": "code",
      "metadata": {
        "id": "FoNVwbNtJHU5"
      },
      "source": [
        "# Direct Solution\n",
        "\n",
        "# Python3\n",
        "\n",
        "import math\n",
        "import time\n",
        "import numpy\n",
        "\n",
        "# Discrete Knapsack problem without repetition\n",
        "def maxGold(W, n, items):\n",
        "    \"\"\" Outputs the maximum weight of gold that fits in knapsack of capacity W\n",
        "    (int, int, list) -> (int, 2D-array) \"\"\"\n",
        "\n",
        "    value = numpy.zeros((W+1, n+1))\n",
        "    for i in range(1, W+1):\n",
        "        for j in range(1, n+1):\n",
        "            # if item i is not part of optimal knapsack\n",
        "            value[i][j] = value[i][j-1]\n",
        "            if items[j-1]<=i:\n",
        "                # if item i is part of optimal knapsack\n",
        "                temp = value[i-items[j-1]][j-1] + items[j-1]\n",
        "                # max(i in knapsack, i not in knapsack)\n",
        "                if temp > value[i][j]:\n",
        "                    value[i][j] = temp\n",
        "\n",
        "    return (int(value[W][n]), value)\n",
        "\n",
        "def printItems(value, items, i, j, arr):\n",
        "    \"\"\" Finds which items are present in optimal solution and returns a boolean array \n",
        "    (2D-array, list, int, int, list) -> (list) \"\"\"\n",
        "\n",
        "    if i == 0 and j == 0:\n",
        "        arr.reverse()\n",
        "        return arr\n",
        "    if value[i][j] == value[i][j-1]:\n",
        "        arr.append(0)\n",
        "        return printItems(value, items, i, j-1, arr)\n",
        "    else:\n",
        "        arr.append(1)\n",
        "        return printItems(value, items, i-items[j-1], j-1, arr)\n",
        "        \n",
        "if __name__ == '__main__':\n",
        "    W, n               = [int(i) for i in input().split()]\n",
        "    item_weights       = [int(i) for i in input().split()]\n",
        "    max_weight, Matrix = maxGold(W, n, item_weights)\n",
        "    bool_vector      = printItems(Matrix, item_weights, W, n, [])\n",
        "    optimal = [str(j) for i, j in enumerate(item_weights) if bool_vector[i]]\n",
        "    print(f\"Weights in knapsack of capacity {W}: {' '.join(optimal)}\")"
      ],
      "execution_count": null,
      "outputs": []
    },
    {
      "cell_type": "code",
      "metadata": {
        "colab": {
          "base_uri": "https://localhost:8080/"
        },
        "id": "gnjGWVYyLTUQ",
        "outputId": "3ac2e5fc-de66-44e7-d81d-ba0ec5b7bd5b"
      },
      "source": [
        "# Direct Solution - C++ (Python marks an out-of-bounds index, so c++ it is)\n",
        "\n",
        "%%writefile Gold.cpp\n",
        "\n",
        "#include <iostream>\n",
        "#include <vector>\n",
        "\n",
        "using namespace std;\n",
        "\n",
        "int optimal_weight(int W, const vector<int> &w) {\n",
        "\tvector<vector<int>> values(w.size() + 1, vector<int>(W + 1));\n",
        "\tfor (size_t i = 0; i <= W; i++) { values[0][i] = 0; }\n",
        "\tfor (size_t i = 0; i <= w.size(); i++) { values[i][0] = 0; }\n",
        "\n",
        "\tfor (size_t i = 1; i <= w.size(); i++) {\n",
        "\t\tfor (size_t j = 1; j <= W; j++) {\n",
        "\t\t\tif (j >= w[i - 1]) {\n",
        "\t\t\t\tvalues[i][j] = max(w[i - 1] + values[i - 1][j - w[i - 1]],\n",
        "\t\t\t\t\t\t\t\t   values[i - 1][j]);\n",
        "\t\t\t} else {\n",
        "\t\t\t\tvalues[i][j] = values[i - 1][j];\n",
        "\t\t\t}\n",
        "\t\t}\n",
        "\t}\n",
        "\n",
        "\treturn values[w.size()][W];\n",
        "}\n",
        "\n",
        "int main() {\n",
        "\tint n, W;\n",
        "\tstd::cin >> W >> n;\n",
        "\tvector<int> w(n);\n",
        "\tfor (int i = 0; i < n; i++) { std::cin >> w[i]; }\n",
        "\tstd::cout << optimal_weight(W, w) << '\\n';\n",
        "}"
      ],
      "execution_count": 5,
      "outputs": [
        {
          "output_type": "stream",
          "text": [
            "Writing Gold.cpp\n"
          ],
          "name": "stdout"
        }
      ]
    },
    {
      "cell_type": "code",
      "metadata": {
        "colab": {
          "base_uri": "https://localhost:8080/"
        },
        "id": "LfhdGO1RL1eI",
        "outputId": "609996b8-da91-4d44-db11-fad3092c7330"
      },
      "source": [
        "%%shell \n",
        "g++ Gold.cpp -o output\n",
        "./output"
      ],
      "execution_count": 6,
      "outputs": [
        {
          "output_type": "stream",
          "text": [
            "10 3\n",
            "1 4 8\n",
            "9\n"
          ],
          "name": "stdout"
        },
        {
          "output_type": "execute_result",
          "data": {
            "text/plain": [
              ""
            ]
          },
          "metadata": {
            "tags": []
          },
          "execution_count": 6
        }
      ]
    },
    {
      "cell_type": "markdown",
      "metadata": {
        "id": "CBVS8d3cMJbo"
      },
      "source": [
        "## Partitioning Souvenirs\n",
        "\n",
        "Problem Description\n",
        "\n",
        "You and two of your friends have just returned back home after visiting various countries. Now you wouldlike to evenly split all the souvenirs that all three of you bought.\n",
        "\n",
        "**Input Format.** The first line contains an integer 𝑛. The second line contains integers 𝑣1, 𝑣2, . . . , 𝑣𝑛 separated by spaces.\n",
        "\n",
        "**Constraints.** 1 ≤ 𝑛 ≤ 20, 1 ≤ 𝑣𝑖 ≤ 30 for all 𝑖.\n",
        "\n",
        "**Output Format.** Output 1, if it possible to partition 𝑣1, 𝑣2, . . . , 𝑣𝑛 into three subsets with equal sums, and 0 otherwise.\n",
        "\n",
        "$\\underline{Sample \\hspace{0.2cm} 1.}$\n",
        "\n",
        "Input:\n",
        "\n",
        "`4`\n",
        "\n",
        "`3 3 3 3`\n",
        "\n",
        "Output:\n",
        "\n",
        "`0`\n",
        "\n",
        "$\\hspace{0.2cm}$\n",
        "\n",
        "$\\underline{Sample \\hspace{0.2cm} 2.}$\n",
        "\n",
        "Input:\n",
        "\n",
        "`1`\n",
        "\n",
        "`40`\n",
        "\n",
        "Output:\n",
        "\n",
        "`0`\n",
        "\n",
        "$\\hspace{0.2cm}$\n",
        "\n",
        "$\\underline{Sample \\hspace{0.2cm} 3.}$\n",
        "\n",
        "Input:\n",
        "\n",
        "`11`\n",
        "\n",
        "`17 59 34 57 17 23 67 1 18 2 59`\n",
        "\n",
        "Output:\n",
        "\n",
        "`1`\n",
        "\n",
        "$34 + 67 + 17 = 23 + 59 + 1 + 17 + 18 = 59 + 2 + 57.$\n",
        "\n",
        "$\\hspace{0.2cm}$\n",
        "\n",
        "$\\underline{Sample \\hspace{0.2cm} 4.}$\n",
        "\n",
        "Input:\n",
        "\n",
        "`13`\n",
        "\n",
        "`1 2 3 4 5 5 7 7 8 10 12 19 25`\n",
        "\n",
        "Output:\n",
        "\n",
        "`1`\n",
        "\n",
        "$1 + 3 + 7 + 25 = 2 + 4 + 5 + 7 + 8 + 10 = 5 + 12 + 19.$"
      ]
    },
    {
      "cell_type": "code",
      "metadata": {
        "colab": {
          "base_uri": "https://localhost:8080/"
        },
        "id": "4FM_H62tM-fY",
        "outputId": "f149a25c-fb28-4110-b76a-954ce341e969"
      },
      "source": [
        "# Direct Solution\n",
        "\n",
        "# Python3\n",
        "\n",
        "import math\n",
        "import time\n",
        "import numpy\n",
        "\n",
        "def partitions(W, n, items):\n",
        "    \"\"\" Finds if number of partitions having capacity W is >=3\n",
        "    (int, int, list) -> (int) \"\"\"\n",
        "    count = 0 \n",
        "    value = numpy.zeros((W+1, n+1))\n",
        "    for i in range(1, W+1):\n",
        "        for j in range(1, n+1):\n",
        "            value[i][j] = value[i][j-1]\n",
        "            if items[j-1]<=i:\n",
        "                temp = value[i-items[j-1]][j-1] + items[j-1]\n",
        "                if temp > value[i][j]:\n",
        "                    value[i][j] = temp\n",
        "            if value[i][j] == W: count += 1\n",
        "\n",
        "    if count < 3: print('0')\n",
        "    else: print('1')\n",
        "\n",
        "if __name__ == '__main__':\n",
        "    n = int(input())\n",
        "    item_weights = [int(i) for i in input().split()]\n",
        "    start_time = time.time()\n",
        "    total_weight = sum(item_weights)\n",
        "    if n<3: \n",
        "        print('0')\n",
        "    elif total_weight%3 != 0: \n",
        "        print('0')\n",
        "    else:\n",
        "        partitions(total_weight//3, n, item_weights)\n",
        "\n",
        "    print(\"--- %s seconds ---\" % (time.time() - start_time))    "
      ],
      "execution_count": 8,
      "outputs": [
        {
          "output_type": "stream",
          "text": [
            "13\n",
            "1 2 3 4 5 5 7 7 8 10 12 19 25\n",
            "1\n",
            "--- 0.002674102783203125 seconds ---\n"
          ],
          "name": "stdout"
        }
      ]
    },
    {
      "cell_type": "markdown",
      "metadata": {
        "id": "DofN4iRQNYGw"
      },
      "source": [
        "## Partitioning Souvenirs\n",
        "\n",
        "Problem Description\n",
        "\n",
        "**Task.** Find the maximum value of an arithmetic expression by specifying the order of applying its arithmetic operations using additional parentheses.\n",
        "\n",
        "**Input Format.** The only line of the input contains a string 𝑠 of length 2𝑛 + 1 for some 𝑛, with symbols 𝑠0, 𝑠1, . . . , 𝑠2𝑛. Each symbol at an even position of 𝑠 is a digit (that is, an integer from 0 to 9) while\n",
        "each symbol at an odd position is one of three operations from {+,-,*}.\n",
        "\n",
        "**Constraints.** 0 ≤ 𝑛 ≤ 14 (hence the string contains at most 29 symbols).\n",
        "\n",
        "**Output Format.** Output the maximum possible value of the given arithmetic expression among different orders of applying arithmetic operations.\n",
        "\n",
        "$\\underline{Sample \\hspace{0.2cm} 1.}$\n",
        "\n",
        "Input:\n",
        "\n",
        "`1 + 5`\n",
        "\n",
        "Output:\n",
        "\n",
        "`6`\n",
        "\n",
        "$\\hspace{0.2cm}$\n",
        "\n",
        "$\\underline{Sample \\hspace{0.2cm} 2.}$\n",
        "\n",
        "Input:\n",
        "\n",
        "`5-8+7*4-8+9`\n",
        "\n",
        "Output:\n",
        "\n",
        "`200`\n",
        "\n",
        "200 = (5 − ((8 + 7) × (4 − (8 + 9))))"
      ]
    },
    {
      "cell_type": "code",
      "metadata": {
        "colab": {
          "base_uri": "https://localhost:8080/"
        },
        "id": "2LWSrJGLOMpQ",
        "outputId": "af744712-8ccf-4ef4-deb9-84e5b4501eee"
      },
      "source": [
        "# Direct Solution\n",
        "\n",
        "# Python3\n",
        "\n",
        "import math\n",
        "import time\n",
        "import numpy\n",
        "\n",
        "def calc(a, b, op):\n",
        "    \"\"\" Evaluates the expression (a op b)\n",
        "    (int, int, char) -> (int) \"\"\"\n",
        "    if op == '+':\n",
        "        return a + b\n",
        "    elif op == '-':\n",
        "        return a - b\n",
        "    else:\n",
        "        return a * b\n",
        "\n",
        "\n",
        "def MinAndMax(M, m, i, j, operators):\n",
        "    \"\"\" Finds the optimal values i.e. min and max for a subproblem \n",
        "    (2D-array, 2D-array, int, int, list) -> (int, int) \"\"\"\n",
        "    min_value = math.inf\n",
        "    max_value = -math.inf\n",
        "    for k in range(i, j):\n",
        "        a = calc(M[i][k], M[k+1][j], operators[k])\n",
        "        b = calc(M[i][k], m[k+1][j], operators[k])\n",
        "        c = calc(m[i][k], M[k+1][j], operators[k])\n",
        "        d = calc(m[i][k], m[k+1][j], operators[k])\n",
        "        min_value = min(min_value, a, b, c, d)\n",
        "        max_value = max(max_value, a, b, c, d)\n",
        "    return min_value, max_value\n",
        "\n",
        "\n",
        "def get_maximum_value(operands, operators):\n",
        "    \"\"\" Adds parentheses to a given arithmetic expression to maximize its value \n",
        "    (list, list) -> (int) \"\"\"\n",
        "    n = len(operands)\n",
        "    m = [[None for x in range(n)] for x in range(n)]\n",
        "    M = [[None for x in range(n)] for x in range(n)]\n",
        "\n",
        "    for i in range(n):\n",
        "        m[i][i] = operands[i]\n",
        "        M[i][i] = operands[i]\n",
        "\n",
        "    for s in range(1, n):\n",
        "        for i in range(0, n-s):\n",
        "            j = i + s\n",
        "            m[i][j], M[i][j] = MinAndMax(M, m, i, j, operators)\n",
        "\n",
        "    return M[0][n-1]\n",
        "\n",
        "\n",
        "if __name__ == \"__main__\":\n",
        "    expression = input()\n",
        "    operators, operands = [], []\n",
        "\n",
        "    for i in expression:\n",
        "        if i in ['+', '-', '*']:\n",
        "            operators.append(i)\n",
        "        else:\n",
        "            operands.append(int(i))\n",
        "    start_time = time.time()\n",
        "    print(get_maximum_value(operands, operators))\n",
        "    print(\"--- %s seconds ---\" % (time.time() - start_time))   "
      ],
      "execution_count": 9,
      "outputs": [
        {
          "output_type": "stream",
          "text": [
            "5-8+7*4-8+9\n",
            "200\n",
            "--- 0.0009205341339111328 seconds ---\n"
          ],
          "name": "stdout"
        }
      ]
    },
    {
      "cell_type": "markdown",
      "metadata": {
        "id": "MiJsSNGsOifI"
      },
      "source": [
        "![imagen.png](data:image/png;base64,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)"
      ]
    }
  ]
}