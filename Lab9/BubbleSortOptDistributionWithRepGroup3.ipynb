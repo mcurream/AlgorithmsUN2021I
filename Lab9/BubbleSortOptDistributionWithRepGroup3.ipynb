{
  "nbformat": 4,
  "nbformat_minor": 0,
  "metadata": {
    "colab": {
      "name": "BubbleSortOptDistributionWithRepGroup3.ipynb",
      "provenance": [],
      "collapsed_sections": []
    },
    "kernelspec": {
      "name": "python3",
      "display_name": "Python 3"
    },
    "language_info": {
      "name": "python"
    }
  },
  "cells": [
    {
      "cell_type": "markdown",
      "metadata": {
        "id": "YKpVu1OXX6m_"
      },
      "source": [
        "\n",
        "##**BubbleSort - Distribution With Repetition**\n",
        "\n",
        "###Complexity histograms for permutations of $n$ different elements\n",
        "\n",
        "###Best case - increasingly sorted array\n",
        "\n",
        "($\\frac{n^2-n}{2}$ comparisons + $0$ swaps) - $t_b(n) = \\frac{n^2-n}{2} = \\Theta(n^2) $\n",
        "\n",
        "###Worst case - decreasingly sorted array\n",
        "\n",
        "($\\frac{n^2-n}{2}$ comparisons + $\\frac{n^2-n}{2}$ swaps) - $t_w(n) = n^2-n = \\Theta(n^2) $\n",
        "\n",
        "###Average case - expected number of comparisons + swaps on random unifrom permutation of $n$ different elements\n",
        "\n",
        "$t_a(n) = \\frac{3}{4}(n^2-n)= \\Theta(n^2) $\n",
        "\n",
        "\n",
        "\n",
        "\n"
      ]
    },
    {
      "cell_type": "code",
      "metadata": {
        "id": "Ngiw0SKuqxAr"
      },
      "source": [
        "def bubbleSort(arr):\n",
        "    steps = 0\n",
        "    n = len(arr)\n",
        "    for i in range(n):\n",
        "        swapped = False\n",
        "        for j in range(0, n-i-1):\n",
        "            steps += 1\n",
        "            if arr[j] > arr[j+1] :\n",
        "                arr[j], arr[j+1] = arr[j+1], arr[j]\n",
        "                swapped = True\n",
        "                steps += 1\n",
        "        if swapped == False:\n",
        "            break\n",
        "    return steps\n",
        " \n"
      ],
      "execution_count": 1,
      "outputs": []
    },
    {
      "cell_type": "code",
      "metadata": {
        "colab": {
          "base_uri": "https://localhost:8080/",
          "height": 175
        },
        "id": "zZYBG2KttQSj",
        "outputId": "afc0da70-d866-4f0e-a218-e1834a311db1"
      },
      "source": [
        "# Average case on random unifrom permtation of  n 3/4 (**2 -n)\n",
        "import numpy as np \n",
        "import pandas as pd\n",
        "import scipy.linalg as la\n",
        "\n",
        "n = np.array([3.0,4.0,5.0,6.0])    # Number n of sorted elments \n",
        "t = np.array([4.5,9.0, 15.0,22.5]) # Average comparisons + swaps for the corresponding n \n",
        "\n",
        "data = pd.DataFrame({'n': n, 't': t})\n",
        "data\n",
        "\n"
      ],
      "execution_count": 2,
      "outputs": [
        {
          "output_type": "execute_result",
          "data": {
            "text/html": [
              "<div>\n",
              "<style scoped>\n",
              "    .dataframe tbody tr th:only-of-type {\n",
              "        vertical-align: middle;\n",
              "    }\n",
              "\n",
              "    .dataframe tbody tr th {\n",
              "        vertical-align: top;\n",
              "    }\n",
              "\n",
              "    .dataframe thead th {\n",
              "        text-align: right;\n",
              "    }\n",
              "</style>\n",
              "<table border=\"1\" class=\"dataframe\">\n",
              "  <thead>\n",
              "    <tr style=\"text-align: right;\">\n",
              "      <th></th>\n",
              "      <th>n</th>\n",
              "      <th>t</th>\n",
              "    </tr>\n",
              "  </thead>\n",
              "  <tbody>\n",
              "    <tr>\n",
              "      <th>0</th>\n",
              "      <td>3.0</td>\n",
              "      <td>4.5</td>\n",
              "    </tr>\n",
              "    <tr>\n",
              "      <th>1</th>\n",
              "      <td>4.0</td>\n",
              "      <td>9.0</td>\n",
              "    </tr>\n",
              "    <tr>\n",
              "      <th>2</th>\n",
              "      <td>5.0</td>\n",
              "      <td>15.0</td>\n",
              "    </tr>\n",
              "    <tr>\n",
              "      <th>3</th>\n",
              "      <td>6.0</td>\n",
              "      <td>22.5</td>\n",
              "    </tr>\n",
              "  </tbody>\n",
              "</table>\n",
              "</div>"
            ],
            "text/plain": [
              "     n     t\n",
              "0  3.0   4.5\n",
              "1  4.0   9.0\n",
              "2  5.0  15.0\n",
              "3  6.0  22.5"
            ]
          },
          "metadata": {
            "tags": []
          },
          "execution_count": 2
        }
      ]
    },
    {
      "cell_type": "code",
      "metadata": {
        "colab": {
          "base_uri": "https://localhost:8080/"
        },
        "id": "rv3pQPHfwr0Z",
        "outputId": "84b020f5-2886-4de4-ef5b-4b8a5fe99caa"
      },
      "source": [
        "# Interpolating a polynomial of degree 3\n",
        "\n",
        "X = np.column_stack([n**0,n**1,n**2,n**3])\n",
        "a = la.solve(X,t)\n",
        "a"
      ],
      "execution_count": 3,
      "outputs": [
        {
          "output_type": "execute_result",
          "data": {
            "text/plain": [
              "array([ 0.  , -0.75,  0.75,  0.  ])"
            ]
          },
          "metadata": {
            "tags": []
          },
          "execution_count": 3
        }
      ]
    },
    {
      "cell_type": "code",
      "metadata": {
        "colab": {
          "base_uri": "https://localhost:8080/"
        },
        "id": "aWZG5ajQ3wT7",
        "outputId": "b23387ab-3c6c-4278-e8fe-eaa660e029c4"
      },
      "source": [
        "from itertools import product\n",
        "\n",
        "n=3 \n",
        "perm = product(range(1,n+1), repeat = n)\n",
        "\n",
        "c=0\n",
        "for i in perm:\n",
        "    print(i)\n",
        "    c+=1\n",
        "\n",
        "print(c)"
      ],
      "execution_count": 4,
      "outputs": [
        {
          "output_type": "stream",
          "text": [
            "(1, 1, 1)\n",
            "(1, 1, 2)\n",
            "(1, 1, 3)\n",
            "(1, 2, 1)\n",
            "(1, 2, 2)\n",
            "(1, 2, 3)\n",
            "(1, 3, 1)\n",
            "(1, 3, 2)\n",
            "(1, 3, 3)\n",
            "(2, 1, 1)\n",
            "(2, 1, 2)\n",
            "(2, 1, 3)\n",
            "(2, 2, 1)\n",
            "(2, 2, 2)\n",
            "(2, 2, 3)\n",
            "(2, 3, 1)\n",
            "(2, 3, 2)\n",
            "(2, 3, 3)\n",
            "(3, 1, 1)\n",
            "(3, 1, 2)\n",
            "(3, 1, 3)\n",
            "(3, 2, 1)\n",
            "(3, 2, 2)\n",
            "(3, 2, 3)\n",
            "(3, 3, 1)\n",
            "(3, 3, 2)\n",
            "(3, 3, 3)\n",
            "27\n"
          ],
          "name": "stdout"
        }
      ]
    },
    {
      "cell_type": "code",
      "metadata": {
        "colab": {
          "base_uri": "https://localhost:8080/",
          "height": 460
        },
        "id": "zKMWnXF5gjid",
        "outputId": "98d5516c-7a17-44bf-d83b-46870e7612f4"
      },
      "source": [
        "from itertools import product\n",
        "import matplotlib.pyplot as plt\n",
        "import numpy as np \n",
        "\n",
        "n = 3\n",
        "perm = product(range(1,n+1), repeat = n)\n",
        "\n",
        "times =  [] \n",
        "# Print the obtained permutations\n",
        "for i in list(perm):\n",
        "    i = list(i)\n",
        "    times.append(bubbleSort(i))\n",
        "\n",
        "b = np.array(range(min(times)-1,max(times)+2) ) +0.5\n",
        "plt.hist(times,bins=b)\n",
        "plt.title(\"Bubble Sort\")\n",
        "plt.xlabel(\"Steps = comparisons + swaps \")\n",
        "plt.ylabel(\"Frequency\")\n",
        "plt.show()\n",
        "    \n",
        "print(\"n\",n)  \n",
        "print(\"number of permutations ,n**n = \",n**n)\n",
        "print(\"exp min =\",min(times))\n",
        "print(\"min formula (n-1)*n/2 =\",(n-1)*n/2)\n",
        "print(\"exp max =\",max(times))\n",
        "print(\"max formula (n-1)*n =\",(n-1)*n)\n",
        "print(\"exp mean =\",np.mean(times))\n",
        "print(\"mean formula (3/4)*(n**2)-n+(1/4) =\",(3/4)*(n**2)-n+(1/4))\n",
        "print(\"stdev\",np.std(times))"
      ],
      "execution_count": 5,
      "outputs": [
        {
          "output_type": "display_data",
          "data": {
            "image/png": "[encoded data removed]",
            "text/plain": [
              "<Figure size 432x288 with 1 Axes>"
            ]
          },
          "metadata": {
            "tags": [],
            "needs_background": "light"
          }
        },
        {
          "output_type": "stream",
          "text": [
            "n 3\n",
            "number of permutations ,n**n =  27\n",
            "exp min = 2\n",
            "min formula (n-1)*n/2 = 3.0\n",
            "exp max = 6\n",
            "max formula (n-1)*n = 6\n",
            "exp mean = 3.6296296296296298\n",
            "mean formula (3/4)*(n**2)-n+(1/4) = 4.0\n",
            "stdev 1.3374422285383547\n"
          ],
          "name": "stdout"
        }
      ]
    },
    {
      "cell_type": "code",
      "metadata": {
        "colab": {
          "base_uri": "https://localhost:8080/",
          "height": 460
        },
        "id": "lwBDi5ihhIPh",
        "outputId": "22fdbc88-03b3-44e9-b74d-b565b4878720"
      },
      "source": [
        "from itertools import product\n",
        "import matplotlib.pyplot as plt\n",
        "import numpy as np \n",
        "\n",
        "n = 4\n",
        "perm = product(range(1,n+1), repeat = n)\n",
        "\n",
        "times =  [] \n",
        "# Print the obtained permutations\n",
        "for i in list(perm):\n",
        "    i = list(i)\n",
        "    times.append(bubbleSort(i))\n",
        "\n",
        "b = np.array(range(min(times)-1,max(times)+2) ) +0.5\n",
        "plt.hist(times,bins=b)\n",
        "plt.title(\"Bubble Sort\")\n",
        "plt.xlabel(\"Steps = comparisons + swaps \")\n",
        "plt.ylabel(\"Frequency\")\n",
        "plt.show()\n",
        "    \n",
        "print(\"n\",n)  \n",
        "print(\"number of permutations ,n**n = \",n**n)\n",
        "print(\"exp min =\",min(times))\n",
        "print(\"min formula (n-1)*n/2 =\",(n-1)*n/2)\n",
        "print(\"exp max =\",max(times))\n",
        "print(\"max formula (n-1)*n =\",(n-1)*n)\n",
        "print(\"exp mean =\",np.mean(times))\n",
        "print(\"mean formula (3/4)*(n**2)-n+(1/4) =\",(3/4)*(n**2)-n+(1/4))\n",
        "print(\"stdev\",np.std(times))"
      ],
      "execution_count": 6,
      "outputs": [
        {
          "output_type": "display_data",
          "data": {
            "image/png": "[encoded data removed]",
            "text/plain": [
              "<Figure size 432x288 with 1 Axes>"
            ]
          },
          "metadata": {
            "tags": [],
            "needs_background": "light"
          }
        },
        {
          "output_type": "stream",
          "text": [
            "n 4\n",
            "number of permutations ,n**n =  256\n",
            "exp min = 3\n",
            "min formula (n-1)*n/2 = 6.0\n",
            "exp max = 12\n",
            "max formula (n-1)*n = 12\n",
            "exp mean = 7.46875\n",
            "mean formula (3/4)*(n**2)-n+(1/4) = 8.25\n",
            "stdev 2.2995838618106537\n"
          ],
          "name": "stdout"
        }
      ]
    },
    {
      "cell_type": "code",
      "metadata": {
        "colab": {
          "base_uri": "https://localhost:8080/",
          "height": 460
        },
        "id": "EUuT2cfvhJ7M",
        "outputId": "687eed2e-9c7d-4571-a868-3903891d4b9c"
      },
      "source": [
        "from itertools import product\n",
        "import matplotlib.pyplot as plt\n",
        "import numpy as np \n",
        "\n",
        "n = 5\n",
        "perm = product(range(1,n+1), repeat = n)\n",
        "\n",
        "times =  [] \n",
        "# Print the obtained permutations\n",
        "for i in list(perm):\n",
        "    i = list(i)\n",
        "    times.append(bubbleSort(i))\n",
        "\n",
        "b = np.array(range(min(times)-1,max(times)+2) ) +0.5\n",
        "plt.hist(times,bins=b)\n",
        "plt.title(\"Bubble Sort\")\n",
        "plt.xlabel(\"Steps = comparisons + swaps \")\n",
        "plt.ylabel(\"Frequency\")\n",
        "plt.show()\n",
        "    \n",
        "print(\"n\",n)  \n",
        "print(\"number of permutations ,n**n = \",n**n)\n",
        "print(\"exp min =\",min(times))\n",
        "print(\"min formula (n-1)*n/2 =\",(n-1)*n/2)\n",
        "print(\"exp max =\",max(times))\n",
        "print(\"max formula (n-1)*n =\",(n-1)*n)\n",
        "print(\"exp mean =\",np.mean(times))\n",
        "print(\"mean formula (3/4)*(n**2)-n+(1/4) =\",(3/4)*(n**2)-n+(1/4))\n",
        "print(\"stdev\",np.std(times))"
      ],
      "execution_count": 7,
      "outputs": [
        {
          "output_type": "display_data",
          "data": {
            "image/png": "[encoded data removed]",
            "text/plain": [
              "<Figure size 432x288 with 1 Axes>"
            ]
          },
          "metadata": {
            "tags": [],
            "needs_background": "light"
          }
        },
        {
          "output_type": "stream",
          "text": [
            "n 5\n",
            "number of permutations ,n**n =  3125\n",
            "exp min = 4\n",
            "min formula (n-1)*n/2 = 10.0\n",
            "exp max = 20\n",
            "max formula (n-1)*n = 20\n",
            "exp mean = 12.77152\n",
            "mean formula (3/4)*(n**2)-n+(1/4) = 14.0\n",
            "stdev 3.2691951440071607\n"
          ],
          "name": "stdout"
        }
      ]
    },
    {
      "cell_type": "code",
      "metadata": {
        "colab": {
          "base_uri": "https://localhost:8080/",
          "height": 460
        },
        "id": "itnM63uIhNFz",
        "outputId": "a57a2285-16c6-4b5b-aad3-aa83feeaf297"
      },
      "source": [
        "from itertools import product\n",
        "import matplotlib.pyplot as plt\n",
        "import numpy as np \n",
        "\n",
        "n = 6\n",
        "perm = product(range(1,n+1), repeat = n)\n",
        "\n",
        "times =  [] \n",
        "# Print the obtained permutations\n",
        "for i in list(perm):\n",
        "    i = list(i)\n",
        "    times.append(bubbleSort(i))\n",
        "\n",
        "b = np.array(range(min(times)-1,max(times)+2) ) +0.5\n",
        "plt.hist(times,bins=b)\n",
        "plt.title(\"Bubble Sort\")\n",
        "plt.xlabel(\"Steps = comparisons + swaps \")\n",
        "plt.ylabel(\"Frequency\")\n",
        "plt.show()\n",
        "    \n",
        "print(\"n\",n)  \n",
        "print(\"number of permutations ,n**n = \",n**n)\n",
        "print(\"exp min =\",min(times))\n",
        "print(\"min formula (n-1)*n/2 =\",(n-1)*n/2)\n",
        "print(\"exp max =\",max(times))\n",
        "print(\"max formula (n-1)*n =\",(n-1)*n)\n",
        "print(\"exp mean =\",np.mean(times))\n",
        "print(\"mean formula (3/4)*(n**2)-n+(1/4) =\",(3/4)*(n**2)-n+(1/4))\n",
        "print(\"stdev\",np.std(times))"
      ],
      "execution_count": 8,
      "outputs": [
        {
          "output_type": "display_data",
          "data": {
            "image/png": "[encoded data removed]",
            "text/plain": [
              "<Figure size 432x288 with 1 Axes>"
            ]
          },
          "metadata": {
            "tags": [],
            "needs_background": "light"
          }
        },
        {
          "output_type": "stream",
          "text": [
            "n 6\n",
            "number of permutations ,n**n =  46656\n",
            "exp min = 5\n",
            "min formula (n-1)*n/2 = 15.0\n",
            "exp max = 30\n",
            "max formula (n-1)*n = 30\n",
            "exp mean = 19.52895661865569\n",
            "mean formula (3/4)*(n**2)-n+(1/4) = 21.25\n",
            "stdev 4.290252772629642\n"
          ],
          "name": "stdout"
        }
      ]
    },
    {
      "cell_type": "code",
      "metadata": {
        "colab": {
          "base_uri": "https://localhost:8080/",
          "height": 460
        },
        "id": "uyhyR7xzhQX0",
        "outputId": "998ce6e6-9b48-429c-d03f-97d39d276b56"
      },
      "source": [
        "from itertools import product\n",
        "import matplotlib.pyplot as plt\n",
        "import numpy as np \n",
        "\n",
        "n = 7 \n",
        "perm = product(range(1,n+1), repeat = n)\n",
        "\n",
        "times =  [] \n",
        "# Print the obtained permutations\n",
        "for i in list(perm):\n",
        "    i = list(i)\n",
        "    times.append(bubbleSort(i))\n",
        "\n",
        "b = np.array(range(min(times)-1,max(times)+2) ) +0.5\n",
        "plt.hist(times,bins=b)\n",
        "plt.title(\"Bubble Sort\")\n",
        "plt.xlabel(\"Steps = comparisons + swaps \")\n",
        "plt.ylabel(\"Frequency\")\n",
        "plt.show()\n",
        "    \n",
        "print(\"n\",n)  \n",
        "print(\"number of permutations ,n**n = \",n**n)\n",
        "print(\"exp min =\",min(times))\n",
        "print(\"min formula (n-1)*n/2 =\",(n-1)*n/2)\n",
        "print(\"exp max =\",max(times))\n",
        "print(\"max formula (n-1)*n =\",(n-1)*n)\n",
        "print(\"exp mean =\",np.mean(times))\n",
        "print(\"mean formula (3/4)*(n**2)-n+(1/4) =\",(3/4)*(n**2)-n+(1/4))\n",
        "print(\"stdev\",np.std(times))"
      ],
      "execution_count": 9,
      "outputs": [
        {
          "output_type": "display_data",
          "data": {
            "image/png": "[encoded data removed]",
            "text/plain": [
              "<Figure size 432x288 with 1 Axes>"
            ]
          },
          "metadata": {
            "tags": [],
            "needs_background": "light"
          }
        },
        {
          "output_type": "stream",
          "text": [
            "n 7\n",
            "number of permutations ,n**n =  823543\n",
            "exp min = 6\n",
            "min formula (n-1)*n/2 = 21.0\n",
            "exp max = 42\n",
            "max formula (n-1)*n = 42\n",
            "exp mean = 27.74813215581943\n",
            "mean formula (3/4)*(n**2)-n+(1/4) = 30.0\n",
            "stdev 5.373187736730251\n"
          ],
          "name": "stdout"
        }
      ]
    },
    {
      "cell_type": "code",
      "metadata": {
        "colab": {
          "base_uri": "https://localhost:8080/",
          "height": 460
        },
        "id": "h-U0mOcXhSyc",
        "outputId": "ebfb83aa-e02b-4609-bee3-76780a8e2121"
      },
      "source": [
        "from itertools import product\n",
        "import matplotlib.pyplot as plt\n",
        "import numpy as np \n",
        "\n",
        "n = 8\n",
        "perm = product(range(1,n+1), repeat = n)\n",
        "\n",
        "times =  [] \n",
        "# Print the obtained permutations\n",
        "for i in list(perm):\n",
        "    i = list(i)\n",
        "    times.append(bubbleSort(i))\n",
        "\n",
        "b = np.array(range(min(times)-1,max(times)+2) ) +0.5\n",
        "plt.hist(times,bins=b)\n",
        "plt.title(\"Bubble Sort\")\n",
        "plt.xlabel(\"Steps = comparisons + swaps \")\n",
        "plt.ylabel(\"Frequency\")\n",
        "plt.show()\n",
        "    \n",
        "print(\"n\",n)  \n",
        "print(\"number of permutations ,n**n = \",n**n)\n",
        "print(\"exp min =\",min(times))\n",
        "print(\"min formula (n-1)*n/2 =\",(n-1)*n/2)\n",
        "print(\"exp max =\",max(times))\n",
        "print(\"max formula (n-1)*n =\",(n-1)*n)\n",
        "print(\"exp mean =\",np.mean(times))\n",
        "print(\"mean formula (3/4)*(n**2)-n+(1/4) =\",(3/4)*(n**2)-n+(1/4))\n",
        "print(\"stdev\",np.std(times))"
      ],
      "execution_count": 10,
      "outputs": [
        {
          "output_type": "display_data",
          "data": {
            "image/png": "[encoded data removed]",
            "text/plain": [
              "<Figure size 432x288 with 1 Axes>"
            ]
          },
          "metadata": {
            "tags": [],
            "needs_background": "light"
          }
        },
        {
          "output_type": "stream",
          "text": [
            "n 8\n",
            "number of permutations ,n**n =  16777216\n",
            "exp min = 7\n",
            "min formula (n-1)*n/2 = 28.0\n",
            "exp max = 56\n",
            "max formula (n-1)*n = 56\n",
            "exp mean = 37.4370551109314\n",
            "mean formula (3/4)*(n**2)-n+(1/4) = 40.25\n",
            "stdev 6.511226704934139\n"
          ],
          "name": "stdout"
        }
      ]
    },
    {
      "cell_type": "code",
      "metadata": {
        "colab": {
          "base_uri": "https://localhost:8080/",
          "height": 286
        },
        "id": "p_H8_E3eBp2v",
        "outputId": "a781dd05-f7f0-4a4c-d36a-34d15fcee400"
      },
      "source": [
        "from itertools import product\n",
        "import numpy as np\n",
        "import matplotlib.pyplot as plt\n",
        "from mpl_toolkits.mplot3d import Axes3D\n",
        "import random \n",
        "\n",
        "fig = plt.figure()\n",
        "ax = plt.axes(projection=\"3d\")\n",
        "\n",
        "N = 8\n",
        "\n",
        "x = []\n",
        "y = []\n",
        "z = []\n",
        "dx = []\n",
        "dy = []\n",
        "dz = []\n",
        "\n",
        "for n in np.arange(3,N+1,1):\n",
        "   A = range(n)\n",
        "   times = []\n",
        "\n",
        "   for P in  product(A, repeat = n):\n",
        "       t = bubbleSort(list(P)) \n",
        "       times.append(t)  \n",
        " \n",
        "   b = np.array(range(min(times)-1, max(times)+1))+0.5\n",
        "   H = np.array(np.histogram(times,b))\n",
        "   H[0] = H[0]/np.sum(H[0])\n",
        "   for i in range(len(H[0])):\n",
        "     x.append(n)\n",
        "     y.append(H[1][i])\n",
        "     z.append(0)\n",
        "     dx.append(0.1)\n",
        "     dy.append(0.1)\n",
        "     dz.append(H[0][i])\n",
        "\n",
        "ax.bar3d(x, y, z, dx, dy, dz, color='aqua', zsort='average')\n",
        "plt.show()"
      ],
      "execution_count": 11,
      "outputs": [
        {
          "output_type": "stream",
          "text": [
            "/usr/local/lib/python3.7/dist-packages/ipykernel_launcher.py:28: VisibleDeprecationWarning: Creating an ndarray from ragged nested sequences (which is a list-or-tuple of lists-or-tuples-or ndarrays with different lengths or shapes) is deprecated. If you meant to do this, you must specify 'dtype=object' when creating the ndarray\n"
          ],
          "name": "stderr"
        },
        {
          "output_type": "display_data",
          "data": {
            "image/png": "[encoded data removed]",
            "text/plain": [
              "<Figure size 432x288 with 1 Axes>"
            ]
          },
          "metadata": {
            "tags": [],
            "needs_background": "light"
          }
        }
      ]
    },
    {
      "cell_type": "code",
      "metadata": {
        "colab": {
          "base_uri": "https://localhost:8080/",
          "height": 286
        },
        "id": "iSJOueauPVeu",
        "outputId": "ce54fb07-aa0f-427d-afce-3ccb3602ae55"
      },
      "source": [
        "from itertools import product\n",
        "import numpy as np\n",
        "import matplotlib.pyplot as plt\n",
        "from mpl_toolkits.mplot3d import Axes3D\n",
        "import random \n",
        "\n",
        "fig = plt.figure()\n",
        "ax = plt.axes(projection=\"3d\")\n",
        "\n",
        "N = 8\n",
        "\n",
        "x = []\n",
        "y = []\n",
        "z = []\n",
        "dx = []\n",
        "dy = []\n",
        "dz = []\n",
        "\n",
        "for n in np.arange(3,N+1,1):\n",
        "   A = range(n)\n",
        "   times = []\n",
        "\n",
        "   for P in  product(A, repeat = n):\n",
        "       t = bubbleSort(list(P)) \n",
        "       times.append(t)  \n",
        " \n",
        "   b = np.array(range(min(times)-1, max(times)+1))+0.5\n",
        "   H = np.array(np.histogram(times,b))\n",
        "   H[0] = H[0]/np.sum(H[0])\n",
        "   for i in range(len(H[0])):\n",
        "     x.append(n)\n",
        "     y.append(H[1][i])\n",
        "     z.append(0)\n",
        "     dx.append(0.1)\n",
        "     dy.append(0.1)\n",
        "     dz.append(H[0][i])\n",
        "\n",
        "ax.view_init(30, 15)\n",
        "ax.bar3d(x, y, z, dx, dy, dz, color='aqua', zsort='average')\n",
        "plt.show()\n",
        "\n"
      ],
      "execution_count": 12,
      "outputs": [
        {
          "output_type": "stream",
          "text": [
            "/usr/local/lib/python3.7/dist-packages/ipykernel_launcher.py:28: VisibleDeprecationWarning: Creating an ndarray from ragged nested sequences (which is a list-or-tuple of lists-or-tuples-or ndarrays with different lengths or shapes) is deprecated. If you meant to do this, you must specify 'dtype=object' when creating the ndarray\n"
          ],
          "name": "stderr"
        },
        {
          "output_type": "display_data",
          "data": {
            "image/png": "[encoded data removed]",
            "text/plain": [
              "<Figure size 432x288 with 1 Axes>"
            ]
          },
          "metadata": {
            "tags": [],
            "needs_background": "light"
          }
        }
      ]
    },
    {
      "cell_type": "code",
      "metadata": {
        "colab": {
          "base_uri": "https://localhost:8080/",
          "height": 297
        },
        "id": "yXfT0a97QI_G",
        "outputId": "ab1706a6-819a-412a-9e8c-734dab8e30fd"
      },
      "source": [
        "import matplotlib.pyplot as plt\n",
        "import numpy as np\n",
        "\n",
        "n = np.arange(1,21,1)\n",
        "\n",
        "plt.plot(n, (n-1)*n/2,  label = 'Insertion sort best time $(n-1)*n/2$', color='aqua')\n",
        "plt.plot(n, (3/4)*(n**2)-n+(1/4), label = 'Insertion average time $(3/4)*(n**2)-n+(1/4)$', color='royalblue')\n",
        "plt.plot(n, (n-1)*n, label = 'Insertion average time $(n-1)*n$',color='blue')\n",
        "plt.xlabel('Array size')\n",
        "plt.ylabel('Steps')\n",
        "plt.legend(loc = 'upper left')"
      ],
      "execution_count": 13,
      "outputs": [
        {
          "output_type": "execute_result",
          "data": {
            "text/plain": [
              "<matplotlib.legend.Legend at 0x7faff3855350>"
            ]
          },
          "metadata": {
            "tags": []
          },
          "execution_count": 13
        },
        {
          "output_type": "display_data",
          "data": {
            "image/png": "[encoded data removed]",
            "text/plain": [
              "<Figure size 432x288 with 1 Axes>"
            ]
          },
          "metadata": {
            "tags": [],
            "needs_background": "light"
          }
        }
      ]
    },
    {
      "cell_type": "markdown",
      "metadata": {
        "id": "SYU6m43l5QPx"
      },
      "source": [
        "# Average case - expected number of comparisons + swaps on random unifrom permtation of $n$   elements with repetitions $t_a(n) = \\frac{3}{4}n^2 - n +\\frac{1}{4}= \\Theta(n^2) $"
      ]
    },
    {
      "cell_type": "code",
      "metadata": {
        "colab": {
          "base_uri": "https://localhost:8080/",
          "height": 175
        },
        "id": "foPLijZz5aGX",
        "outputId": "f894e9da-1678-403d-d93f-72097d84f73d"
      },
      "source": [
        "# Average case on random unifrom permutation of $n$ elements with repetitions $t_a(n) = \\frac{3}{4}n^2 - n +\\frac{1}{4}= \\Theta(n^2) $\n",
        "import numpy as np \n",
        "import pandas as pd\n",
        "import scipy.linalg as la\n",
        "\n",
        "n = np.array([3.0,4.0,5.0,6.0])    # Number n of sorted elments \n",
        "t = np.array([4.0 ,8.25,14.0,21.25]) # Average comparisons + swaps for the corresponding n \n",
        "\n",
        "data = pd.DataFrame({'n': n, 't': t})\n",
        "data\n"
      ],
      "execution_count": 14,
      "outputs": [
        {
          "output_type": "execute_result",
          "data": {
            "text/html": [
              "<div>\n",
              "<style scoped>\n",
              "    .dataframe tbody tr th:only-of-type {\n",
              "        vertical-align: middle;\n",
              "    }\n",
              "\n",
              "    .dataframe tbody tr th {\n",
              "        vertical-align: top;\n",
              "    }\n",
              "\n",
              "    .dataframe thead th {\n",
              "        text-align: right;\n",
              "    }\n",
              "</style>\n",
              "<table border=\"1\" class=\"dataframe\">\n",
              "  <thead>\n",
              "    <tr style=\"text-align: right;\">\n",
              "      <th></th>\n",
              "      <th>n</th>\n",
              "      <th>t</th>\n",
              "    </tr>\n",
              "  </thead>\n",
              "  <tbody>\n",
              "    <tr>\n",
              "      <th>0</th>\n",
              "      <td>3.0</td>\n",
              "      <td>4.00</td>\n",
              "    </tr>\n",
              "    <tr>\n",
              "      <th>1</th>\n",
              "      <td>4.0</td>\n",
              "      <td>8.25</td>\n",
              "    </tr>\n",
              "    <tr>\n",
              "      <th>2</th>\n",
              "      <td>5.0</td>\n",
              "      <td>14.00</td>\n",
              "    </tr>\n",
              "    <tr>\n",
              "      <th>3</th>\n",
              "      <td>6.0</td>\n",
              "      <td>21.25</td>\n",
              "    </tr>\n",
              "  </tbody>\n",
              "</table>\n",
              "</div>"
            ],
            "text/plain": [
              "     n      t\n",
              "0  3.0   4.00\n",
              "1  4.0   8.25\n",
              "2  5.0  14.00\n",
              "3  6.0  21.25"
            ]
          },
          "metadata": {
            "tags": []
          },
          "execution_count": 14
        }
      ]
    },
    {
      "cell_type": "code",
      "metadata": {
        "colab": {
          "base_uri": "https://localhost:8080/"
        },
        "id": "-1Z8g4WV6JOO",
        "outputId": "15564051-767a-45be-9945-2039babf5206"
      },
      "source": [
        "# Interpolating a polynomial of degree 3\n",
        "\n",
        "X = np.column_stack([n**0,n**1,n**2,n**3])\n",
        "a = la.solve(X,t)\n",
        "a"
      ],
      "execution_count": 15,
      "outputs": [
        {
          "output_type": "execute_result",
          "data": {
            "text/plain": [
              "array([ 0.25, -1.  ,  0.75,  0.  ])"
            ]
          },
          "metadata": {
            "tags": []
          },
          "execution_count": 15
        }
      ]
    }
  ]
}