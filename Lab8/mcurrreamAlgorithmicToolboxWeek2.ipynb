{
  "nbformat": 4,
  "nbformat_minor": 0,
  "metadata": {
    "colab": {
      "name": "AlgorithmicToolboxWeek2.ipynb",
      "provenance": []
    },
    "kernelspec": {
      "name": "python3",
      "display_name": "Python 3"
    },
    "language_info": {
      "name": "python"
    }
  },
  "cells": [
    {
      "cell_type": "markdown",
      "metadata": {
        "id": "E2QV_C-d64ft"
      },
      "source": [
        "# **Introduction**\n",
        "\n",
        "Welcome to your second programming assignment of the Algorithmic Toolbox at Coursera! It consists of eight\n",
        "programming challenges. Three of them require you just to implement carefully the algorithms covered in\n",
        "the lectures. The remaining challenges will require you to first design an algorithm and then to implement it.\n",
        "For all the challenges, we provide starter solutions in C++, Java, and Python3. These solutions implement\n",
        "straightforward algorithms that usually work only for small inputs. To verify this, you may want to submit\n",
        "these solutions to the grader. This will usually give you a “time limit exceeded” message for Python\n",
        "starter files and either “time limit exceeded” or “wrong answer” message for C++ and Java solutions (the\n",
        "reason for wrong answer being an integer overflow issue). Your goal is to replace a naive algorithm with\n",
        "an efficient one. In particular, you may want to use the naive implementation for stress testing your efficient\n",
        "implementation.\n",
        "In this programming assignment, the grader will show you the input data if your solution fails on any\n",
        "of the tests. This is done to help you to get used to the algorithmic problems in general and get some\n",
        "experience debugging your programs while knowing exactly on which tests they fail. However, for all the\n",
        "following programming assignments, the grader will show the input data only in case your solution fails on\n",
        "one of the first few tests."
      ]
    },
    {
      "cell_type": "markdown",
      "metadata": {
        "id": "AsXFDqug72Ub"
      },
      "source": [
        "## Fibonacci Number\n",
        "\n",
        "Problem Description\n",
        "\n",
        "**Task.** Given an integer $n$, find the $n$th Fibonacci number $Fn$.\n",
        "\n",
        "**Input Format.** The input consists of a single integer $n$.\n",
        "\n",
        "**Constraints.** 0 ≤ $n$ ≤ 45.\n",
        "\n",
        "**Output Format.** Output $Fn$.\n",
        "\n",
        "$\\underline{Sample \\hspace{0.2cm} 1.}$\n",
        "\n",
        "Input:\n",
        "\n",
        "`10`\n",
        "\n",
        "Output:\n",
        "\n",
        "`50`\n",
        "\n",
        "$𝐹_{10}$ = $55$."
      ]
    },
    {
      "cell_type": "code",
      "metadata": {
        "colab": {
          "base_uri": "https://localhost:8080/"
        },
        "id": "j_HgNUam3Pz9",
        "outputId": "289c46e7-4f61-4c43-82d0-eaa6601bb709"
      },
      "source": [
        "# Naive Solution\n",
        "\n",
        "# Python3\n",
        "\n",
        "import time\n",
        "\n",
        "def calc_fib(n):\n",
        "    if (n <= 1):\n",
        "        return n\n",
        "\n",
        "    return calc_fib(n - 1) + calc_fib(n - 2)\n",
        "\n",
        "n1 = int(input())\n",
        "start_time = time.time()\n",
        "print(calc_fib(n1))\n",
        "print(\"--- %s seconds ---\" % (time.time() - start_time))\n"
      ],
      "execution_count": 1,
      "outputs": [
        {
          "output_type": "stream",
          "text": [
            "10\n",
            "55\n",
            "--- 0.00023293495178222656 seconds ---\n"
          ],
          "name": "stdout"
        }
      ]
    },
    {
      "cell_type": "code",
      "metadata": {
        "colab": {
          "base_uri": "https://localhost:8080/"
        },
        "id": "LfXJjXaU_5pR",
        "outputId": "ee0bba72-9fc4-47a7-c382-52a096b3fbcd"
      },
      "source": [
        "# List Solution\n",
        "\n",
        "# Python3\n",
        "\n",
        "import time\n",
        "\n",
        "def fib_list(n):\n",
        "     fib = [0, 1]\n",
        "     for i in range(2, n+1):\n",
        "         fib.append(fib[-1] + fib[-2])\n",
        "     return fib\n",
        "\n",
        "n2 = int(input())\n",
        "start_time = time.time()\n",
        "print(fib_list(n2)[n2])\n",
        "print(\"--- %s seconds ---\" % (time.time() - start_time))"
      ],
      "execution_count": 2,
      "outputs": [
        {
          "output_type": "stream",
          "text": [
            "100\n",
            "354224848179261915075\n",
            "--- 0.00025200843811035156 seconds ---\n"
          ],
          "name": "stdout"
        }
      ]
    },
    {
      "cell_type": "markdown",
      "metadata": {
        "id": "zpy76AYz-F3a"
      },
      "source": [
        "## Last Digit of a Large Fibonacci Number\n",
        "\n",
        "Problem Description\n",
        "\n",
        "**Task.** Given an integer $n$, find the last digit of the $n$th Fibonacci number $Fn$ (that is, $Fn$ $mod 10$).\n",
        "\n",
        "**Input Format.** The input consists of a single integer 𝑛.\n",
        "\n",
        "**Constraints.** 0 ≤ 𝑛 ≤ 107.\n",
        "\n",
        "**Output Format.** Output the last digit of 𝐹𝑛.\n",
        "\n",
        "$\\underline{Sample \\hspace{0.2cm} 1.}$\n",
        "\n",
        "Input:\n",
        "\n",
        "`3`\n",
        "\n",
        "Output:\n",
        "\n",
        "`2`\n",
        "\n",
        "$F_3$ = $2$."
      ]
    },
    {
      "cell_type": "code",
      "metadata": {
        "id": "PUSE0bo9A--A"
      },
      "source": [
        "# Naive Solution\n",
        "\n",
        "# Python3\n",
        "\n",
        "import sys\n",
        "\n",
        "def get_fibonacci_last_digit_naive(n):\n",
        "    if n <= 1:\n",
        "        return n\n",
        "\n",
        "    previous = 0\n",
        "    current  = 1\n",
        "\n",
        "    for i in range(n - 1):\n",
        "        previous, current = current, previous + current\n",
        "\n",
        "    return current % 10\n",
        "\n",
        "if __name__ == '__main__':\n",
        "    input = sys.stdin.read()\n",
        "    n3 = int(input)\n",
        "    print(get_fibonacci_last_digit_naive(n3))"
      ],
      "execution_count": null,
      "outputs": []
    },
    {
      "cell_type": "code",
      "metadata": {
        "colab": {
          "base_uri": "https://localhost:8080/"
        },
        "id": "QQSQwSn5AmxB",
        "outputId": "3f5ae38e-1383-4999-9bcf-1dca00902ac7"
      },
      "source": [
        "# Solutions Study\n",
        "\n",
        "# Python3\n",
        "\n",
        "import time\n",
        "\n",
        "# MAKING USE OF THE PREVIOUS LIST ALGORITHM IS BLOODY SLOW FOR NUMBERS BIGGER THAN 1000\n",
        "\n",
        "# def fib_list(n):\n",
        "#      fib = [0, 1]\n",
        "#      for i in range(2, n+1):\n",
        "#          fib.append(fib[-1] + fib[-2])\n",
        "#      return fib\n",
        "\n",
        "def last_digit(n):\n",
        "    last = n % 10\n",
        "    return last     \n",
        "\n",
        "# n = int(input())\n",
        "# a = fib_list(n)[n]\n",
        "# print(last_digit(a))\n",
        "\n",
        "# THE DICTIONARY IS EVEN FASTER FOR SMALL FIBONACCI NUMBER, BUT ONCE AGAIN, DAMN SLOW FOR BIGGER NUMBERS\n",
        "\n",
        "# def fib_dic(n, prev_comp = {0: 0, 1: 1}):\n",
        "#      if n not in prev_comp:\n",
        "#          prev_comp[n] = fib_dic(n-1, prev_comp) + fib_dic(n-2, prev_comp)\n",
        "#      return prev_comp[n]\n",
        "\n",
        "# n = int(input())\n",
        "# a = fib_dic(n)\n",
        "# print(a)\n",
        "# print(last_digit(a))\n",
        "\n",
        "# IN DESPERATION I FOUND THE MATRIX METHOD!\n",
        "\n",
        "def fib_matrix(n):\n",
        "    v1, v2, v3 = 1, 1, 0    # make a new a matrix [[1,1],[1,0]], initialiazed\n",
        "    for rec in bin(n)[3:]:  # quickly raising it to the nth power\n",
        "        calc = v2*v2\n",
        "        v1, v2, v3 = v1*v1+calc, (v1+v3)*v2, calc+v3*v3\n",
        "        if (rec=='1'):\n",
        "            v1, v2, v3 = v1+v2, v1, v2\n",
        "    return v2\n",
        "\n",
        "fibnum = int(input())\n",
        "start_time = time.time()\n",
        "a = fib_matrix(fibnum)\n",
        "print(last_digit(a))\n",
        "print(\"--- %s seconds ---\" % (time.time() - start_time))"
      ],
      "execution_count": 3,
      "outputs": [
        {
          "output_type": "stream",
          "text": [
            "10000\n",
            "5\n",
            "--- 0.0003058910369873047 seconds ---\n"
          ],
          "name": "stdout"
        }
      ]
    },
    {
      "cell_type": "markdown",
      "metadata": {
        "id": "abV435NXFzRh"
      },
      "source": [
        "## Greatest Common Divisor\n",
        "\n",
        "Problem Description\n",
        "\n",
        "**Task.** Given two integers $a$ and $b$, find their greatest common divisor.\n",
        "\n",
        "**Input Format.** The two integers $a$, $b$ are given in the same line separated by space.\n",
        "\n",
        "**Constraints.** 1 ≤ $a$, $b$ ≤ 2 · 109.\n",
        "\n",
        "**Output Format.** Output GCD($a$, $b$).\n",
        "\n",
        "$\\underline{Sample \\hspace{0.2cm} 1.}$\n",
        "\n",
        "Input:\n",
        "\n",
        "`18 35`\n",
        "\n",
        "Output:\n",
        "\n",
        "`1`\n",
        "\n",
        "18 and 35 do not have common non-trivial divisors."
      ]
    },
    {
      "cell_type": "code",
      "metadata": {
        "id": "CrXQMlImGZKO"
      },
      "source": [
        "#Naive Solution\n",
        "\n",
        "# Python3\n",
        "\n",
        "import sys\n",
        "\n",
        "def gcd_naive(a, b):\n",
        "    current_gcd = 1\n",
        "    for d in range(2, min(a, b) + 1):\n",
        "        if a % d == 0 and b % d == 0:\n",
        "            if d > current_gcd:\n",
        "                current_gcd = d\n",
        "\n",
        "    return current_gcd\n",
        "\n",
        "if __name__ == \"__main__\":\n",
        "    input = sys.stdin.read()\n",
        "    a, b = map(int, input.split())\n",
        "    print(gcd_naive(a, b))"
      ],
      "execution_count": null,
      "outputs": []
    },
    {
      "cell_type": "code",
      "metadata": {
        "colab": {
          "base_uri": "https://localhost:8080/"
        },
        "id": "barnLAGIHEa-",
        "outputId": "842a8e1e-82f4-4827-d8e7-6388bb3e9fc3"
      },
      "source": [
        "# Euclid Solution\n",
        "\n",
        "# Python3\n",
        "\n",
        "import time\n",
        "\n",
        "def euclid_gcd(a, b):\n",
        "    c = a % b\n",
        "    if(c != 0):\n",
        "        return euclid_gcd(b, c)\n",
        "    else:\n",
        "        return b\n",
        "\n",
        "\n",
        "if __name__ == \"__main__\": \n",
        "    a, b = [int(i) for i in input().split()]\n",
        "    start_time = time.time()\n",
        "    print(euclid_gcd(a, b))\n",
        "    print(\"--- %s seconds ---\" % (time.time() - start_time))"
      ],
      "execution_count": 3,
      "outputs": [
        {
          "output_type": "stream",
          "text": [
            "18 35\n",
            "1\n",
            "--- 0.00011801719665527344 seconds ---\n"
          ],
          "name": "stdout"
        }
      ]
    },
    {
      "cell_type": "markdown",
      "metadata": {
        "id": "DOVLyvuTIcBG"
      },
      "source": [
        "## Least Common Multiple\n",
        "\n",
        "Problem Description\n",
        "\n",
        "**Task.** Given two integers 𝑎 and 𝑏, find their least common multiple.\n",
        "\n",
        "**Input Format.** The two integers 𝑎 and 𝑏 are given in the same line separated by space.\n",
        "\n",
        "**Constraints.** 1 ≤ 𝑎, 𝑏 ≤ 107.\n",
        "\n",
        "**Output Format.** Output the least common multiple of 𝑎 and 𝑏.\n",
        "\n",
        "$\\underline{Sample \\hspace{0.2cm} 1.}$\n",
        "\n",
        "Input:\n",
        "\n",
        "`6 8`\n",
        "\n",
        "Output:\n",
        "\n",
        "`24`\n",
        "\n",
        "Among all the positive integers that are divisible by both 6 and 8 (e.g., 48, 480, 24), 24 is the smallest one."
      ]
    },
    {
      "cell_type": "code",
      "metadata": {
        "id": "DkrFEZJeI39W"
      },
      "source": [
        "# Naive Solution\n",
        "\n",
        "# Python3\n",
        "\n",
        "import sys\n",
        "\n",
        "def lcm_naive(a, b):\n",
        "    for l in range(1, a*b + 1):\n",
        "        if l % a == 0 and l % b == 0:\n",
        "            return l\n",
        "\n",
        "    return a*b\n",
        "\n",
        "if __name__ == '__main__':\n",
        "    input = sys.stdin.read()\n",
        "    a, b = map(int, input.split())\n",
        "    print(lcm_naive(a, b))"
      ],
      "execution_count": null,
      "outputs": []
    },
    {
      "cell_type": "code",
      "metadata": {
        "colab": {
          "base_uri": "https://localhost:8080/"
        },
        "id": "pHsN8QPoJRTl",
        "outputId": "79aaf0e2-f2b1-40af-a11e-9aa97cfb759a"
      },
      "source": [
        "# Euclid Solution\n",
        "\n",
        "# Python3\n",
        "\n",
        "import time\n",
        "\n",
        "def euclid_lcm(a,b):\n",
        "    div = euclid_gcd(a, b)\n",
        "    val = (a * b) // div # divide with integral result (discard remainder)\n",
        "    return val\n",
        "\n",
        "if __name__ == \"__main__\":\n",
        "    a, b = map(int, input().split())\n",
        "    start_time = time.time()\n",
        "    print(euclid_lcm(a, b))\n",
        "    print(\"--- %s seconds ---\" % (time.time() - start_time))"
      ],
      "execution_count": 5,
      "outputs": [
        {
          "output_type": "stream",
          "text": [
            "6 8\n",
            "24\n",
            "--- 0.000125885009765625 seconds ---\n"
          ],
          "name": "stdout"
        }
      ]
    },
    {
      "cell_type": "markdown",
      "metadata": {
        "id": "jScfDWpjJoi-"
      },
      "source": [
        "## Fibonacci Number Again\n",
        "\n",
        "Problem Description\n",
        "\n",
        "**Task.** Given two integers $n$ and $m$, output $Fn$ *mod* $m$ (that is, the remainder of $Fn$ when divided by $m$).\n",
        "\n",
        "**Input Format.** The input consists of two integers $n$ and $m$ given on the same line (separated by a space).\n",
        "\n",
        "**Constraints.** 1 ≤ $n$ ≤ 1014, 2 ≤ $m$ ≤ 103.\n",
        "\n",
        "**Output Format.** Output $Fn$ *mod* $m$.\n",
        "\n",
        "$\\underline{Sample \\hspace{0.2cm} 1.}$\n",
        "\n",
        "Input:\n",
        "\n",
        "`239 1000`\n",
        "\n",
        "Output:\n",
        "\n",
        "`161`\n",
        "\n",
        "$F_{239}$ *mod* $1000$ = $39 679 027 332 006 820 581 608 740 953 902 289 877 834 488 152 161$ $\\%$ $1000$ = $161$."
      ]
    },
    {
      "cell_type": "code",
      "metadata": {
        "id": "UL4DnSfFLZcV"
      },
      "source": [
        "# Naive Solution\n",
        "\n",
        "# Python3\n",
        "import sys\n",
        "\n",
        "def get_fibonacci_huge_naive(n, m):\n",
        "    if n <= 1:\n",
        "        return n\n",
        "\n",
        "    previous = 0\n",
        "    current  = 1\n",
        "\n",
        "    for _ in range(n - 1):\n",
        "        previous, current = current, previous + current\n",
        "\n",
        "    return current % m\n",
        "\n",
        "if __name__ == '__main__':\n",
        "    input = sys.stdin.read();\n",
        "    n, m = map(int, input.split())\n",
        "    print(get_fibonacci_huge_naive(n, m))"
      ],
      "execution_count": null,
      "outputs": []
    },
    {
      "cell_type": "code",
      "metadata": {
        "colab": {
          "base_uri": "https://localhost:8080/"
        },
        "id": "Vqy-l6JPLhvM",
        "outputId": "3dbc81e5-505f-4507-cffd-0d6f129fd648"
      },
      "source": [
        "# Dictionary Method\n",
        "\n",
        "# Python3\n",
        "\n",
        "import time\n",
        "\n",
        "def fib_mod(n, m):\n",
        "    \n",
        "    cache = {0: 0, 1: 1}\n",
        "\n",
        "    def fib_m(n):\n",
        "        if n in cache:\n",
        "            return cache[n]\n",
        "\n",
        "        if n % 2 == 0:\n",
        "            fib_half_n = fib_m(n // 2)\n",
        "            result = (2 * fib_m(n // 2 - 1) + fib_half_n) * fib_half_n\n",
        "        else:\n",
        "            result = fib_m((n + 1) // 2) ** 2 + fib_m((n - 1) // 2) ** 2\n",
        "\n",
        "        cache[n] = result = result % m\n",
        "        return result\n",
        "\n",
        "    return fib_m(n)\n",
        "\n",
        "if __name__ == \"__main__\":\n",
        "    n, m = map(int, input().split())\n",
        "    start_time = time.time()\n",
        "    print(fib_mod(n, m))\n",
        "    print(\"--- %s seconds ---\" % (time.time() - start_time))\n"
      ],
      "execution_count": 6,
      "outputs": [
        {
          "output_type": "stream",
          "text": [
            "239 1000\n",
            "161\n",
            "--- 0.00015926361083984375 seconds ---\n"
          ],
          "name": "stdout"
        }
      ]
    },
    {
      "cell_type": "markdown",
      "metadata": {
        "id": "v2m1NFUeL4ZV"
      },
      "source": [
        "![imagen.png](data:image/png;base64,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)"
      ]
    }
  ]
}